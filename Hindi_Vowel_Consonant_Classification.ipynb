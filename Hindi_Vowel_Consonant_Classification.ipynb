{
  "nbformat": 4,
  "nbformat_minor": 0,
  "metadata": {
    "colab": {
      "name": "Hindi Vowel/Consonant Classification.ipynb",
      "provenance": [],
      "collapsed_sections": [],
      "include_colab_link": true
    },
    "kernelspec": {
      "name": "python3",
      "display_name": "Python 3"
    },
    "accelerator": "GPU"
  },
  "cells": [
    {
      "cell_type": "markdown",
      "metadata": {
        "id": "view-in-github",
        "colab_type": "text"
      },
      "source": [
        "<a href=\"https://colab.research.google.com/github/NavneetSajwan/Hindi-Vowel-Consonant-Classification/blob/Separate-CNNs/Hindi_Vowel_Consonant_Classification.ipynb\" target=\"_parent\"><img src=\"https://colab.research.google.com/assets/colab-badge.svg\" alt=\"Open In Colab\"/></a>"
      ]
    },
    {
      "cell_type": "code",
      "metadata": {
        "id": "C5Ga95AcppTh",
        "colab_type": "code",
        "colab": {}
      },
      "source": [
        "import os\n",
        "import matplotlib.pyplot as plt\n",
        "import seaborn as sns\n",
        "from PIL import Image, ImageEnhance\n",
        "import numpy as np\n",
        "from time import time\n",
        "import warnings\n",
        "# warnings.filterwarnings(\"ignore\")"
      ],
      "execution_count": 0,
      "outputs": []
    },
    {
      "cell_type": "code",
      "metadata": {
        "id": "NiyvnSRVH0Zv",
        "colab_type": "code",
        "colab": {}
      },
      "source": [
        "import torch\n",
        "import torch.nn as nn\n",
        "import torch.optim as optim\n",
        "from torch.utils.data import Dataset, DataLoader\n",
        "import torchvision\n",
        "import torchvision.transforms as transforms\n",
        "import torch.nn.functional as F"
      ],
      "execution_count": 0,
      "outputs": []
    },
    {
      "cell_type": "code",
      "metadata": {
        "id": "MiKi7JAPwkMS",
        "colab_type": "code",
        "colab": {}
      },
      "source": [
        "from torchvision import models"
      ],
      "execution_count": 0,
      "outputs": []
    },
    {
      "cell_type": "markdown",
      "metadata": {
        "id": "c_J0RT5I3ww3",
        "colab_type": "text"
      },
      "source": [
        "# Data Fetching"
      ]
    },
    {
      "cell_type": "code",
      "metadata": {
        "id": "wb7blxWWyVND",
        "colab_type": "code",
        "outputId": "08a82d6e-5fe3-461e-dc1f-22dcf105e4e2",
        "colab": {
          "base_uri": "https://localhost:8080/",
          "height": 122
        }
      },
      "source": [
        "from google.colab import drive\n",
        "drive.mount('/content/drive')"
      ],
      "execution_count": 4,
      "outputs": [
        {
          "output_type": "stream",
          "text": [
            "Go to this URL in a browser: https://accounts.google.com/o/oauth2/auth?client_id=947318989803-6bn6qk8qdgf4n4g3pfee6491hc0brc4i.apps.googleusercontent.com&redirect_uri=urn%3Aietf%3Awg%3Aoauth%3A2.0%3Aoob&scope=email%20https%3A%2F%2Fwww.googleapis.com%2Fauth%2Fdocs.test%20https%3A%2F%2Fwww.googleapis.com%2Fauth%2Fdrive%20https%3A%2F%2Fwww.googleapis.com%2Fauth%2Fdrive.photos.readonly%20https%3A%2F%2Fwww.googleapis.com%2Fauth%2Fpeopleapi.readonly&response_type=code\n",
            "\n",
            "Enter your authorization code:\n",
            "··········\n",
            "Mounted at /content/drive\n"
          ],
          "name": "stdout"
        }
      ]
    },
    {
      "cell_type": "code",
      "metadata": {
        "id": "RraSrnBDqpdz",
        "colab_type": "code",
        "outputId": "3da767bc-507d-4c8e-a61e-e99a091f8cac",
        "colab": {
          "base_uri": "https://localhost:8080/",
          "height": 187
        }
      },
      "source": [
        "os.environ['KAGGLE_USERNAME'] = \"navneetsajwan\" \n",
        "os.environ['KAGGLE_KEY'] = \"fc19a2773ae7ed2042f95e40250fa407\" \n",
        "!kaggle competitions download -c padhai-hindi-vowel-consonant-classification\n",
        "!unzip -q test.zip\n",
        "!unzip -q train.zip"
      ],
      "execution_count": 5,
      "outputs": [
        {
          "output_type": "stream",
          "text": [
            "Warning: Looks like you're using an outdated API Version, please consider updating (server 1.5.6 / client 1.5.4)\n",
            "Downloading sample_submission.csv to /content\n",
            "\r  0% 0.00/145k [00:00<?, ?B/s]\n",
            "\r100% 145k/145k [00:00<00:00, 55.2MB/s]\n",
            "Downloading test.zip to /content\n",
            " 90% 82.0M/91.3M [00:01<00:00, 41.6MB/s]\n",
            "100% 91.3M/91.3M [00:01<00:00, 52.6MB/s]\n",
            "Downloading train.zip to /content\n",
            " 89% 81.0M/91.3M [00:02<00:00, 26.4MB/s]\n",
            "100% 91.3M/91.3M [00:02<00:00, 36.4MB/s]\n"
          ],
          "name": "stdout"
        }
      ]
    },
    {
      "cell_type": "code",
      "metadata": {
        "id": "gGfYZbXPvlkM",
        "colab_type": "code",
        "colab": {}
      },
      "source": [
        "files=os.listdir('train/')"
      ],
      "execution_count": 0,
      "outputs": []
    },
    {
      "cell_type": "code",
      "metadata": {
        "id": "h5_4nJXg2rFp",
        "colab_type": "code",
        "outputId": "01d67e5d-b08f-492c-ff26-80ef20ff3eda",
        "colab": {
          "base_uri": "https://localhost:8080/",
          "height": 34
        }
      },
      "source": [
        "len(files)"
      ],
      "execution_count": 7,
      "outputs": [
        {
          "output_type": "execute_result",
          "data": {
            "text/plain": [
              "10000"
            ]
          },
          "metadata": {
            "tags": []
          },
          "execution_count": 7
        }
      ]
    },
    {
      "cell_type": "code",
      "metadata": {
        "id": "wa0A9wNP2t-E",
        "colab_type": "code",
        "outputId": "c0849fc1-5d6a-4c1f-8252-636ff2cb5822",
        "colab": {
          "base_uri": "https://localhost:8080/",
          "height": 34
        }
      },
      "source": [
        "fileX=sorted(files)\n",
        "fileX[0]"
      ],
      "execution_count": 8,
      "outputs": [
        {
          "output_type": "execute_result",
          "data": {
            "text/plain": [
              "'V0_C0_1.png'"
            ]
          },
          "metadata": {
            "tags": []
          },
          "execution_count": 8
        }
      ]
    },
    {
      "cell_type": "code",
      "metadata": {
        "id": "l3XknI9lou6j",
        "colab_type": "code",
        "outputId": "1e7a477e-78d4-4148-a834-0049f3351cda",
        "colab": {
          "base_uri": "https://localhost:8080/",
          "height": 34
        }
      },
      "source": [
        "vowel=int(files[0][1])\n",
        "type(vowel)\n",
        "# print(vowel)\n"
      ],
      "execution_count": 9,
      "outputs": [
        {
          "output_type": "execute_result",
          "data": {
            "text/plain": [
              "int"
            ]
          },
          "metadata": {
            "tags": []
          },
          "execution_count": 9
        }
      ]
    },
    {
      "cell_type": "code",
      "metadata": {
        "id": "zFQgLTsOn8Ph",
        "colab_type": "code",
        "colab": {}
      },
      "source": [
        "y_vowel=[]\n",
        "y_consonant=[]\n",
        "for file in files:\n",
        "  vowel_idx=int(file[1])\n",
        "  cons_idx=int(file[4])\n",
        "  y_vowel.append(vowel_idx)\n",
        "  y_consonant.append(cons_idx)"
      ],
      "execution_count": 0,
      "outputs": []
    },
    {
      "cell_type": "code",
      "metadata": {
        "id": "Cvt9H0KGucl_",
        "colab_type": "code",
        "outputId": "27df2e08-2eff-4370-bc46-11b99028869f",
        "colab": {
          "base_uri": "https://localhost:8080/",
          "height": 51
        }
      },
      "source": [
        "print(min(y_vowel),max(y_vowel))\n",
        "print(min(y_consonant),max(y_consonant))\n"
      ],
      "execution_count": 11,
      "outputs": [
        {
          "output_type": "stream",
          "text": [
            "0 9\n",
            "0 9\n"
          ],
          "name": "stdout"
        }
      ]
    },
    {
      "cell_type": "code",
      "metadata": {
        "id": "FIgg-ma_ooIb",
        "colab_type": "code",
        "outputId": "b1caf7dc-18f6-43d2-8290-4698dca07728",
        "colab": {
          "base_uri": "https://localhost:8080/",
          "height": 395
        }
      },
      "source": [
        "plt.figure(figsize=(14,6))\n",
        "sns.distplot(y_vowel)"
      ],
      "execution_count": 12,
      "outputs": [
        {
          "output_type": "execute_result",
          "data": {
            "text/plain": [
              "<matplotlib.axes._subplots.AxesSubplot at 0x7fc4d39eb898>"
            ]
          },
          "metadata": {
            "tags": []
          },
          "execution_count": 12
        },
        {
          "output_type": "display_data",
          "data": {
            "image/png": "[encoded data removed]",
            "text/plain": [
              "<Figure size 1008x432 with 1 Axes>"
            ]
          },
          "metadata": {
            "tags": []
          }
        }
      ]
    },
    {
      "cell_type": "code",
      "metadata": {
        "id": "iNDxonqWsq7e",
        "colab_type": "code",
        "colab": {}
      },
      "source": [
        "import pandas as pd\n",
        "df= pd.read_csv(\"/content/drive/My Drive/vowel-consonant-mapping - Hindi.csv\")"
      ],
      "execution_count": 0,
      "outputs": []
    },
    {
      "cell_type": "code",
      "metadata": {
        "id": "yyepnmMA1zsh",
        "colab_type": "code",
        "outputId": "daa9eca0-9ddb-4069-d3e1-aa6eefd6c588",
        "colab": {
          "base_uri": "https://localhost:8080/",
          "height": 421
        }
      },
      "source": [
        "df.head(12)"
      ],
      "execution_count": 14,
      "outputs": [
        {
          "output_type": "execute_result",
          "data": {
            "text/html": [
              "<div>\n",
              "<style scoped>\n",
              "    .dataframe tbody tr th:only-of-type {\n",
              "        vertical-align: middle;\n",
              "    }\n",
              "\n",
              "    .dataframe tbody tr th {\n",
              "        vertical-align: top;\n",
              "    }\n",
              "\n",
              "    .dataframe thead th {\n",
              "        text-align: right;\n",
              "    }\n",
              "</style>\n",
              "<table border=\"1\" class=\"dataframe\">\n",
              "  <thead>\n",
              "    <tr style=\"text-align: right;\">\n",
              "      <th></th>\n",
              "      <th>Unnamed: 0</th>\n",
              "      <th>Unnamed: 1</th>\n",
              "      <th>V0</th>\n",
              "      <th>V1</th>\n",
              "      <th>V2</th>\n",
              "      <th>V3</th>\n",
              "      <th>V4</th>\n",
              "      <th>V5</th>\n",
              "      <th>V6</th>\n",
              "      <th>V7</th>\n",
              "      <th>V8</th>\n",
              "      <th>V9</th>\n",
              "      <th>V10</th>\n",
              "      <th>V11</th>\n",
              "    </tr>\n",
              "  </thead>\n",
              "  <tbody>\n",
              "    <tr>\n",
              "      <th>0</th>\n",
              "      <td>NaN</td>\n",
              "      <td>NaN</td>\n",
              "      <td>0</td>\n",
              "      <td>आ</td>\n",
              "      <td>इ</td>\n",
              "      <td>ई</td>\n",
              "      <td>उ</td>\n",
              "      <td>ऊ</td>\n",
              "      <td>ऋ</td>\n",
              "      <td>ए</td>\n",
              "      <td>ऐ</td>\n",
              "      <td>ऑ</td>\n",
              "      <td>ओ</td>\n",
              "      <td>औ</td>\n",
              "    </tr>\n",
              "    <tr>\n",
              "      <th>1</th>\n",
              "      <td>C0</td>\n",
              "      <td>0</td>\n",
              "      <td>अ</td>\n",
              "      <td>आ</td>\n",
              "      <td>इ</td>\n",
              "      <td>ई</td>\n",
              "      <td>उ</td>\n",
              "      <td>ऊ</td>\n",
              "      <td>ऋ</td>\n",
              "      <td>ए</td>\n",
              "      <td>ऐ</td>\n",
              "      <td>ऑ</td>\n",
              "      <td>ओ</td>\n",
              "      <td>औ</td>\n",
              "    </tr>\n",
              "    <tr>\n",
              "      <th>2</th>\n",
              "      <td>C1</td>\n",
              "      <td>क</td>\n",
              "      <td>क</td>\n",
              "      <td>का</td>\n",
              "      <td>कि</td>\n",
              "      <td>की</td>\n",
              "      <td>कु</td>\n",
              "      <td>कू</td>\n",
              "      <td>कृ</td>\n",
              "      <td>के</td>\n",
              "      <td>कै</td>\n",
              "      <td>कॉ</td>\n",
              "      <td>को</td>\n",
              "      <td>कौ</td>\n",
              "    </tr>\n",
              "    <tr>\n",
              "      <th>3</th>\n",
              "      <td>C2</td>\n",
              "      <td>ख</td>\n",
              "      <td>ख</td>\n",
              "      <td>खा</td>\n",
              "      <td>खि</td>\n",
              "      <td>खी</td>\n",
              "      <td>खु</td>\n",
              "      <td>खू</td>\n",
              "      <td>खृ</td>\n",
              "      <td>खे</td>\n",
              "      <td>खै</td>\n",
              "      <td>खॉ</td>\n",
              "      <td>खो</td>\n",
              "      <td>खौ</td>\n",
              "    </tr>\n",
              "    <tr>\n",
              "      <th>4</th>\n",
              "      <td>C3</td>\n",
              "      <td>ग</td>\n",
              "      <td>ग</td>\n",
              "      <td>गा</td>\n",
              "      <td>गि</td>\n",
              "      <td>गी</td>\n",
              "      <td>गु</td>\n",
              "      <td>गू</td>\n",
              "      <td>गृ</td>\n",
              "      <td>गे</td>\n",
              "      <td>गै</td>\n",
              "      <td>गॉ</td>\n",
              "      <td>गो</td>\n",
              "      <td>गौ</td>\n",
              "    </tr>\n",
              "    <tr>\n",
              "      <th>5</th>\n",
              "      <td>C4</td>\n",
              "      <td>घ</td>\n",
              "      <td>घ</td>\n",
              "      <td>घा</td>\n",
              "      <td>घि</td>\n",
              "      <td>घी</td>\n",
              "      <td>घु</td>\n",
              "      <td>घू</td>\n",
              "      <td>घृ</td>\n",
              "      <td>घे</td>\n",
              "      <td>घै</td>\n",
              "      <td>घॉ</td>\n",
              "      <td>घो</td>\n",
              "      <td>घौ</td>\n",
              "    </tr>\n",
              "    <tr>\n",
              "      <th>6</th>\n",
              "      <td>C5</td>\n",
              "      <td>ङ</td>\n",
              "      <td>ङ</td>\n",
              "      <td>ङा</td>\n",
              "      <td>ङि</td>\n",
              "      <td>ङी</td>\n",
              "      <td>ङु</td>\n",
              "      <td>ङू</td>\n",
              "      <td>ङृ</td>\n",
              "      <td>ङे</td>\n",
              "      <td>ङै</td>\n",
              "      <td>ङॉ</td>\n",
              "      <td>ङो</td>\n",
              "      <td>ङौ</td>\n",
              "    </tr>\n",
              "    <tr>\n",
              "      <th>7</th>\n",
              "      <td>C6</td>\n",
              "      <td>च</td>\n",
              "      <td>च</td>\n",
              "      <td>चा</td>\n",
              "      <td>चि</td>\n",
              "      <td>ची</td>\n",
              "      <td>चु</td>\n",
              "      <td>चू</td>\n",
              "      <td>चृ</td>\n",
              "      <td>चे</td>\n",
              "      <td>चै</td>\n",
              "      <td>चॉ</td>\n",
              "      <td>चो</td>\n",
              "      <td>चौ</td>\n",
              "    </tr>\n",
              "    <tr>\n",
              "      <th>8</th>\n",
              "      <td>C7</td>\n",
              "      <td>छ</td>\n",
              "      <td>छ</td>\n",
              "      <td>छा</td>\n",
              "      <td>छि</td>\n",
              "      <td>छी</td>\n",
              "      <td>छु</td>\n",
              "      <td>छू</td>\n",
              "      <td>छृ</td>\n",
              "      <td>छे</td>\n",
              "      <td>छै</td>\n",
              "      <td>छॉ</td>\n",
              "      <td>छो</td>\n",
              "      <td>छौ</td>\n",
              "    </tr>\n",
              "    <tr>\n",
              "      <th>9</th>\n",
              "      <td>C8</td>\n",
              "      <td>ज</td>\n",
              "      <td>ज</td>\n",
              "      <td>जा</td>\n",
              "      <td>जि</td>\n",
              "      <td>जी</td>\n",
              "      <td>जु</td>\n",
              "      <td>जू</td>\n",
              "      <td>जृ</td>\n",
              "      <td>जे</td>\n",
              "      <td>जै</td>\n",
              "      <td>जॉ</td>\n",
              "      <td>जो</td>\n",
              "      <td>जौ</td>\n",
              "    </tr>\n",
              "    <tr>\n",
              "      <th>10</th>\n",
              "      <td>C9</td>\n",
              "      <td>झ</td>\n",
              "      <td>झ</td>\n",
              "      <td>झा</td>\n",
              "      <td>झि</td>\n",
              "      <td>झी</td>\n",
              "      <td>झु</td>\n",
              "      <td>झू</td>\n",
              "      <td>झृ</td>\n",
              "      <td>झे</td>\n",
              "      <td>झै</td>\n",
              "      <td>झॉ</td>\n",
              "      <td>झो</td>\n",
              "      <td>झौ</td>\n",
              "    </tr>\n",
              "    <tr>\n",
              "      <th>11</th>\n",
              "      <td>C10</td>\n",
              "      <td>ञ</td>\n",
              "      <td>ञ</td>\n",
              "      <td>ञा</td>\n",
              "      <td>ञि</td>\n",
              "      <td>ञी</td>\n",
              "      <td>ञु</td>\n",
              "      <td>ञू</td>\n",
              "      <td>ञृ</td>\n",
              "      <td>ञे</td>\n",
              "      <td>ञै</td>\n",
              "      <td>ञॉ</td>\n",
              "      <td>ञो</td>\n",
              "      <td>ञौ</td>\n",
              "    </tr>\n",
              "  </tbody>\n",
              "</table>\n",
              "</div>"
            ],
            "text/plain": [
              "   Unnamed: 0 Unnamed: 1 V0  V1  V2  V3  V4  V5  V6  V7  V8  V9 V10 V11\n",
              "0         NaN        NaN  0   आ   इ   ई   उ   ऊ   ऋ   ए   ऐ   ऑ   ओ   औ\n",
              "1          C0          0  अ   आ   इ   ई   उ   ऊ   ऋ   ए   ऐ   ऑ   ओ   औ\n",
              "2          C1          क  क  का  कि  की  कु  कू  कृ  के  कै  कॉ  को  कौ\n",
              "3          C2          ख  ख  खा  खि  खी  खु  खू  खृ  खे  खै  खॉ  खो  खौ\n",
              "4          C3          ग  ग  गा  गि  गी  गु  गू  गृ  गे  गै  गॉ  गो  गौ\n",
              "5          C4          घ  घ  घा  घि  घी  घु  घू  घृ  घे  घै  घॉ  घो  घौ\n",
              "6          C5          ङ  ङ  ङा  ङि  ङी  ङु  ङू  ङृ  ङे  ङै  ङॉ  ङो  ङौ\n",
              "7          C6          च  च  चा  चि  ची  चु  चू  चृ  चे  चै  चॉ  चो  चौ\n",
              "8          C7          छ  छ  छा  छि  छी  छु  छू  छृ  छे  छै  छॉ  छो  छौ\n",
              "9          C8          ज  ज  जा  जि  जी  जु  जू  जृ  जे  जै  जॉ  जो  जौ\n",
              "10         C9          झ  झ  झा  झि  झी  झु  झू  झृ  झे  झै  झॉ  झो  झौ\n",
              "11        C10          ञ  ञ  ञा  ञि  ञी  ञु  ञू  ञृ  ञे  ञै  ञॉ  ञो  ञौ"
            ]
          },
          "metadata": {
            "tags": []
          },
          "execution_count": 14
        }
      ]
    },
    {
      "cell_type": "code",
      "metadata": {
        "id": "oiPV5wo617sG",
        "colab_type": "code",
        "colab": {}
      },
      "source": [
        "vowels=list(df.iloc[1,2:12])\n",
        "consonants= list(df.iloc[1:11,1])"
      ],
      "execution_count": 0,
      "outputs": []
    },
    {
      "cell_type": "code",
      "metadata": {
        "id": "0WGIhXJpNc6V",
        "colab_type": "code",
        "outputId": "61bbd3e8-2769-443b-9efd-f23a88822a1e",
        "colab": {
          "base_uri": "https://localhost:8080/",
          "height": 34
        }
      },
      "source": [
        "len(consonants)"
      ],
      "execution_count": 16,
      "outputs": [
        {
          "output_type": "execute_result",
          "data": {
            "text/plain": [
              "10"
            ]
          },
          "metadata": {
            "tags": []
          },
          "execution_count": 16
        }
      ]
    },
    {
      "cell_type": "markdown",
      "metadata": {
        "id": "d_V3XKtb3Lpp",
        "colab_type": "text"
      },
      "source": [
        "## Converting image into arrays\n",
        "\n"
      ]
    },
    {
      "cell_type": "code",
      "metadata": {
        "id": "r4AU7zJPmw_G",
        "colab_type": "code",
        "colab": {}
      },
      "source": [
        "transformer = transforms.Compose([\n",
        "                                  # transforms.Grayscale(1),\n",
        "                                  transforms.ToTensor(),\n",
        "                                  transforms.Normalize((0.5,),(0.5,))\n",
        "                                ])"
      ],
      "execution_count": 0,
      "outputs": []
    },
    {
      "cell_type": "code",
      "metadata": {
        "id": "gDeKPOK7mutb",
        "colab_type": "code",
        "colab": {}
      },
      "source": [
        "# image, vow, cons=trainset.__getitem__(3)\n",
        "# print(image)"
      ],
      "execution_count": 0,
      "outputs": []
    },
    {
      "cell_type": "code",
      "metadata": {
        "id": "CublwP9Z3LDz",
        "colab_type": "code",
        "colab": {}
      },
      "source": [
        "class DatasetHindi(Dataset):\n",
        "  def __init__(self, folderpath, images_list, l_vowel=None, l_cons=None, train=True, transform=None ):\n",
        "    self.folder_path=folderpath\n",
        "    self.images_list =  images_list\n",
        "    self.l_vowel = l_vowel\n",
        "    self.l_cons = l_cons\n",
        "    self.transform= transform\n",
        "\n",
        "  def __len__(self):\n",
        "    return len(self.images_list)\n",
        "\n",
        "  def __getitem__(self, index):\n",
        "    filepath= os.path.join(self.folder_path, self.images_list[index])\n",
        "    image = Image.open(filepath).convert('RGB')\n",
        "    image= ImageEnhance.Sharpness(image).enhance(3.0)\n",
        "    # image= transforms.functional.adjust_brightness(image,2)\n",
        "    # image = transforms.functional.adjust_contrast(image, 2)\n",
        "    # image = transforms.functional.adjust_saturation(image,2)\n",
        "    \n",
        "    # torchvision.transforms.functional.to_tensor(image)\n",
        "    # image = np.array(image).astype(np.uint8)\n",
        "    # if image.shape[2]==4:\n",
        "    #   image = image[:,:,:-1]\n",
        "    # Reshaping the image to torchvision tensors\n",
        "    # image = np.transpose(image, (2,0,1))\n",
        "    # print(image.shape)\n",
        "    if self.transform is not None:\n",
        "      # print(image.shape)\n",
        "      image = self.transform(image)\n",
        "      # print(image.shape)\n",
        "    if self.l_vowel is not None:\n",
        "      l_v = self.l_vowel[index]\n",
        "\n",
        "    if self.l_cons is not None:\n",
        "      l_c = self.l_cons[index]\n",
        "\n",
        "    return image, l_v, l_c"
      ],
      "execution_count": 0,
      "outputs": []
    },
    {
      "cell_type": "code",
      "metadata": {
        "id": "fbCf6R1D3IaY",
        "colab_type": "code",
        "outputId": "7acc806e-3a04-42ed-a856-a4db34178c99",
        "colab": {
          "base_uri": "https://localhost:8080/",
          "height": 34
        }
      },
      "source": [
        "trainset = DatasetHindi('train/', files, y_vowel, y_consonant, transform=transformer)\n",
        "batch=256\n",
        "trainloader=DataLoader(trainset, batch_size= batch, shuffle= False)\n",
        "image, lab_vowel, lab_cons= iter(trainloader).next()\n",
        "image.shape\n",
        "# print(lab_vowel)\n",
        "# displaying the image post transforms\n"
      ],
      "execution_count": 20,
      "outputs": [
        {
          "output_type": "execute_result",
          "data": {
            "text/plain": [
              "torch.Size([256, 3, 64, 64])"
            ]
          },
          "metadata": {
            "tags": []
          },
          "execution_count": 20
        }
      ]
    },
    {
      "cell_type": "code",
      "metadata": {
        "id": "NougHdQT_kVl",
        "colab_type": "code",
        "outputId": "944ac19a-153e-4c37-eb4e-798c7f6b17b0",
        "colab": {
          "base_uri": "https://localhost:8080/",
          "height": 317
        }
      },
      "source": [
        "npimg=np.array(image)\n",
        "npimg= np.transpose(npimg, (0,2,3,1))\n",
        "sample = np.random.randint(batch)\n",
        "sample=0\n",
        "#Transformed Image\n",
        "plt.figure()\n",
        "plt.imshow(npimg[sample,:,:,:])\n",
        "plt.xlabel(str(consonants[lab_cons[sample]])+\" \"+str(vowels[lab_vowel[sample]]))"
      ],
      "execution_count": 21,
      "outputs": [
        {
          "output_type": "stream",
          "text": [
            "Clipping input data to the valid range for imshow with RGB data ([0..1] for floats or [0..255] for integers).\n"
          ],
          "name": "stderr"
        },
        {
          "output_type": "execute_result",
          "data": {
            "text/plain": [
              "Text(0.5, 0, 'झ आ')"
            ]
          },
          "metadata": {
            "tags": []
          },
          "execution_count": 21
        },
        {
          "output_type": "display_data",
          "data": {
            "image/png": "[encoded data removed]",
            "text/plain": [
              "<Figure size 432x288 with 1 Axes>"
            ]
          },
          "metadata": {
            "tags": []
          }
        }
      ]
    },
    {
      "cell_type": "markdown",
      "metadata": {
        "id": "ozyDiaIBfZ17",
        "colab_type": "text"
      },
      "source": [
        "# Creating the Network Class"
      ]
    },
    {
      "cell_type": "code",
      "metadata": {
        "id": "-q0oevszgV7x",
        "colab_type": "code",
        "outputId": "95fece43-582d-4dcb-c8e9-02433aced0e3",
        "colab": {
          "base_uri": "https://localhost:8080/",
          "height": 34
        }
      },
      "source": [
        "device=\"cuda:0\" if torch.cuda.is_available() else \"cpu\"\n",
        "type(device)"
      ],
      "execution_count": 22,
      "outputs": [
        {
          "output_type": "execute_result",
          "data": {
            "text/plain": [
              "str"
            ]
          },
          "metadata": {
            "tags": []
          },
          "execution_count": 22
        }
      ]
    },
    {
      "cell_type": "code",
      "metadata": {
        "id": "lVZhKqpaxgLz",
        "colab_type": "code",
        "colab": {}
      },
      "source": [
        "resnet_v=models.resnet18(pretrained=True)\n",
        "resnet_c=models.resnet18(pretrained=True)"
      ],
      "execution_count": 0,
      "outputs": []
    },
    {
      "cell_type": "code",
      "metadata": {
        "id": "vvhH8ytwvjsv",
        "colab_type": "code",
        "colab": {}
      },
      "source": [
        ""
      ],
      "execution_count": 0,
      "outputs": []
    },
    {
      "cell_type": "code",
      "metadata": {
        "id": "8ln8G7kjyops",
        "colab_type": "code",
        "colab": {}
      },
      "source": [
        "# def freeze_model(model):\n",
        "#   for param in model.parameters():\n",
        "#     param.requires_grad=False\n",
        "final_in_features= resnet_v.fc.in_features\n",
        "resnet_v.fc=nn.Linear(final_in_features, out_features=10 , bias=True)\n",
        "\n",
        "final_in_features= resnet_c.fc.in_features\n",
        "resnet_c.fc=nn.Linear(final_in_features, out_features=10 , bias=True)\n",
        "\n",
        "# for param in model.parameters():\n",
        "#   if param.requires_grad== True:\n",
        "#     print(param.shape)"
      ],
      "execution_count": 0,
      "outputs": []
    },
    {
      "cell_type": "code",
      "metadata": {
        "id": "jXWVNPdeSC8a",
        "colab_type": "code",
        "colab": {}
      },
      "source": [
        "# freeze_model(model)"
      ],
      "execution_count": 0,
      "outputs": []
    },
    {
      "cell_type": "code",
      "metadata": {
        "id": "gZk_rY5TpZ5A",
        "colab_type": "code",
        "colab": {}
      },
      "source": [
        "# Adding extra linear at fc for classifying consonant\n",
        "# mod_fc= nn.Sequential(*(list(model.children())[-1],nn.Linear(512, 10, bias=True)))\n",
        "# mod_fc.extend([nn.Linear(512, 10, bias=True)])\n",
        "# new_model = nn.Sequential(*list(model.children())[:-1])"
      ],
      "execution_count": 0,
      "outputs": []
    },
    {
      "cell_type": "code",
      "metadata": {
        "id": "dvePGxMU9lkl",
        "colab_type": "code",
        "colab": {}
      },
      "source": [
        "#modifying the last layer\n",
        "# final_in_features = model.fc.in_features\n",
        "# model.fc = nn.Linear(final_in_features, 512 ,bias =True)"
      ],
      "execution_count": 0,
      "outputs": []
    },
    {
      "cell_type": "code",
      "metadata": {
        "id": "gCjPmrpd3EqK",
        "colab_type": "code",
        "colab": {}
      },
      "source": [
        "# class super_resnet(nn.Module):\n",
        "#   def __init__(self, model):\n",
        "#     super(super_resnet, self).__init__()\n",
        "#     self.net= model\n",
        "#     self.linear_vowel= nn.Sequential(nn.Linear(512,256), nn.ReLU(), nn.Linear(256, 10))\n",
        "#     self.linear_cons= nn.Sequential(nn.Linear(512,256), nn.ReLU(), nn.Linear(256, 10))\n",
        "#     self.softmax = nn.Softmax(dim=1)\n",
        "\n",
        "#   def forward(self, x):\n",
        "#     # print(x.shape)\n",
        "#     x=self.net(x)\n",
        "#     # print(x.shape)\n",
        "#     x_vowel = self.linear_vowel(x)\n",
        "#     # print(x_vowel.shape)\n",
        "#     x_vowel = self.softmax(x_vowel)\n",
        "#     x_cons = self.linear_cons(x)\n",
        "#     x_cons = self.softmax(x_cons)\n",
        "#     return x_vowel, x_cons"
      ],
      "execution_count": 0,
      "outputs": []
    },
    {
      "cell_type": "markdown",
      "metadata": {
        "id": "MV5QvngBfmo6",
        "colab_type": "text"
      },
      "source": [
        "# Creating the Evaluation function"
      ]
    },
    {
      "cell_type": "code",
      "metadata": {
        "id": "n9kT7zdjfrQw",
        "colab_type": "code",
        "colab": {}
      },
      "source": [
        "def evaluation(dataloader, model_v, model_c):\n",
        "    total, correct_v, correct_c= 0, 0, 0\n",
        "    for data in dataloader:\n",
        "        inputs, lab_v, lab_c= data\n",
        "        inputs, lab_v, lab_c= inputs.to(device), lab_v.to(device), lab_c.to(device)\n",
        "\n",
        "        outputs_v = model_v(inputs.double())\n",
        "        outputs_c = model_c(inputs.double())\n",
        "\n",
        "        # print(outputs_v.shape)\n",
        "        _, pred_v =torch.max(outputs_v, 1)\n",
        "        # print(pred_v, lab_v)\n",
        "        _, pred_c =torch.max(outputs_c, 1)\n",
        "        total+= lab_v.size(0)\n",
        "        correct_v+= (pred_v==lab_v).sum().item()\n",
        "        correct_c+= (pred_c==lab_c).sum().item()\n",
        "    return pred_v, pred_c, 100* correct_v/total, 100* correct_c/total\n"
      ],
      "execution_count": 0,
      "outputs": []
    },
    {
      "cell_type": "markdown",
      "metadata": {
        "id": "_DBZyEMsfwRW",
        "colab_type": "text"
      },
      "source": [
        "## Creating the Network Object"
      ]
    },
    {
      "cell_type": "code",
      "metadata": {
        "id": "r4LKBssVfvUF",
        "colab_type": "code",
        "colab": {}
      },
      "source": [
        "model_v = resnet_v.double().to(device)\n",
        "model_c = resnet_c.double().to(device)\n",
        "# for param in model.parameters():\n",
        "#     nn.init.xavier_uniform_(param.unsqueeze(dim=1))\n",
        "#     param.squeeze()\n",
        "loss_fn=nn.CrossEntropyLoss()\n"
      ],
      "execution_count": 0,
      "outputs": []
    },
    {
      "cell_type": "code",
      "metadata": {
        "id": "PA_xVfOU_Rfm",
        "colab_type": "code",
        "colab": {}
      },
      "source": [
        "opt_v=optim.Adam(model_v.parameters(), lr=0.001 )\n",
        "opt_c=optim.Adam(model_c.parameters(), lr=0.001 )\n"
      ],
      "execution_count": 0,
      "outputs": []
    },
    {
      "cell_type": "markdown",
      "metadata": {
        "id": "ryJY_QHrhEf9",
        "colab_type": "text"
      },
      "source": [
        "## Loading into dataloaders"
      ]
    },
    {
      "cell_type": "code",
      "metadata": {
        "id": "p5VCE5cWvSpM",
        "colab_type": "code",
        "colab": {}
      },
      "source": [
        "import copy\n",
        "from tqdm import tqdm_notebook"
      ],
      "execution_count": 0,
      "outputs": []
    },
    {
      "cell_type": "code",
      "metadata": {
        "id": "FauhyJBugBAs",
        "colab_type": "code",
        "colab": {}
      },
      "source": [
        "batch= 128\n",
        "trainloader = DataLoader(trainset, batch_size=batch, shuffle=False, num_workers=1)\n",
        "# evalloader= DataLoader(evalset, batch_size=batch_size, shuffle=False)\n",
        "# testloader= DataLoader(testset, batch_size=X_test.shape[0],shuffle=False)"
      ],
      "execution_count": 0,
      "outputs": []
    },
    {
      "cell_type": "markdown",
      "metadata": {
        "id": "tSr5yogkhSfo",
        "colab_type": "text"
      },
      "source": [
        "# Training the Network"
      ]
    },
    {
      "cell_type": "code",
      "metadata": {
        "id": "Wm7Wd_5-5Fll",
        "colab_type": "code",
        "outputId": "200bf3ff-adc4-4667-8d2f-49875f161417",
        "colab": {
          "base_uri": "https://localhost:8080/",
          "height": 371
        }
      },
      "source": [
        "# using two faced fc\n",
        "tic=time()\n",
        "model_v.train()\n",
        "model_c.train()\n",
        "loss_per_epoch=[]\n",
        "loss_arr=[]\n",
        "max_epochs= 2\n",
        "min_loss=1000\n",
        "n_iters=np.ceil(10000/batch)\n",
        "for epoch in tqdm_notebook(range(max_epochs),total=max_epochs,unit='epochs'):\n",
        "    for data in tqdm_notebook(trainloader,total=len(trainloader),unit='batch'):\n",
        "        inputs, lab_v, lab_c = data\n",
        "        inputs, lab_v, lab_c = inputs.to(device), lab_v.to(device), lab_c.to(device)\n",
        "\n",
        "        opt_v.zero_grad()\n",
        "        opt_c.zero_grad()\n",
        "        \n",
        "        outputs_v = model_v(inputs.double())\n",
        "        outputs_c = model_c(inputs.double())\n",
        "        \n",
        "        loss=loss_fn(outputs_v, lab_v) + loss_fn(outputs_c, lab_c)\n",
        "        loss.backward()\n",
        "\n",
        "        opt_v.step()\n",
        "        opt_c.step()\n",
        "        # loss_arr.append(loss.item())\n",
        "        # if min_loss>loss.item():\n",
        "        #     min_loss=loss.item()\n",
        "        #     best_model=copy.deepcopy(model.state_dict())\n",
        "        # if i % 8==0:\n",
        "        #     print(\"Epoch: %d Iteration: %d/%d Loss: %0.3f\" %(epoch, i, n_iters, loss.item()))\n",
        "        del inputs, lab_v, lab_c, outputs_v, outputs_c\n",
        "        # torch.cuda.empty_cache()\n",
        "    print(loss)\n",
        "    loss_per_epoch.append(loss.item())\n",
        "toc=time()\n",
        "print(\"Training time:\", toc-tic)\n",
        "plt.plot(loss_per_epoch, 'r')\n",
        "plt.show()\n",
        "model_v.eval()\n",
        "model_c.eval()\n",
        "\n",
        "# torch.save(best_model,\"../input/checkpoint/best_model.pth\")\n",
        "# model.load_state_dict(best_model)\n",
        "# with torch.no_grad():\n",
        "_, _, acc_v, acc_c= evaluation(trainloader, model_v, model_c)\n",
        "print(\"Loss:\")\n",
        "print(\"Training vowel Accuracy: %0.2f consonant accuracy: %0.2f\" %( acc_v , acc_c ))\n",
        "# print(\"Test Accuracy: %0.2f\" %(evaluation(evalloader,model)))"
      ],
      "execution_count": 40,
      "outputs": [
        {
          "output_type": "display_data",
          "data": {
            "application/vnd.jupyter.widget-view+json": {
              "model_id": "9c7fc166a1d14b6aab6d487586e76f34",
              "version_minor": 0,
              "version_major": 2
            },
            "text/plain": [
              "HBox(children=(IntProgress(value=0, max=2), HTML(value='')))"
            ]
          },
          "metadata": {
            "tags": []
          }
        },
        {
          "output_type": "display_data",
          "data": {
            "application/vnd.jupyter.widget-view+json": {
              "model_id": "d3bff85876aa4d9b85c44190b4623d33",
              "version_minor": 0,
              "version_major": 2
            },
            "text/plain": [
              "HBox(children=(IntProgress(value=0, max=79), HTML(value='')))"
            ]
          },
          "metadata": {
            "tags": []
          }
        },
        {
          "output_type": "stream",
          "text": [
            "tensor(0.2178, device='cuda:0', dtype=torch.float64, grad_fn=<AddBackward0>)\n"
          ],
          "name": "stdout"
        },
        {
          "output_type": "display_data",
          "data": {
            "application/vnd.jupyter.widget-view+json": {
              "model_id": "0c80e473d59840f09a537bbfe097ffc7",
              "version_minor": 0,
              "version_major": 2
            },
            "text/plain": [
              "HBox(children=(IntProgress(value=0, max=79), HTML(value='')))"
            ]
          },
          "metadata": {
            "tags": []
          }
        },
        {
          "output_type": "stream",
          "text": [
            "tensor(0.1006, device='cuda:0', dtype=torch.float64, grad_fn=<AddBackward0>)\n",
            "\n",
            "Training time: 160.63452410697937\n"
          ],
          "name": "stdout"
        },
        {
          "output_type": "display_data",
          "data": {
            "image/png": "[encoded data removed]",
            "text/plain": [
              "<Figure size 432x288 with 1 Axes>"
            ]
          },
          "metadata": {
            "tags": []
          }
        },
        {
          "output_type": "stream",
          "text": [
            "Loss:\n",
            "Training vowel Accuracy: 79.87 consonant accuracy: 89.78\n"
          ],
          "name": "stdout"
        }
      ]
    },
    {
      "cell_type": "code",
      "metadata": {
        "id": "ZaZ61DIHouMN",
        "colab_type": "code",
        "colab": {}
      },
      "source": [
        "# from sklearn.metrics import confusion_matrix\n",
        "# # batch= 512\n",
        "# trainloader = DataLoader(trainset, batch_size=, shuffle=False, num_workers=0)\n",
        "# model.eval()\n",
        "# with torch.no_grad():\n",
        "#   pred_v, pred_c,_, _ = evaluation(trainloader, model)\n",
        "# cm= confusion_matrix(pred_v.cpu(), y_vowel[-1000:])\n",
        "# print(cm)"
      ],
      "execution_count": 0,
      "outputs": []
    },
    {
      "cell_type": "code",
      "metadata": {
        "id": "MoOAgnnrKBZi",
        "colab_type": "code",
        "colab": {}
      },
      "source": [
        "# cm= confusion_matrix(pred_c.cpu(), y_consonant[-1000:])\n",
        "# print(cm)"
      ],
      "execution_count": 0,
      "outputs": []
    },
    {
      "cell_type": "code",
      "metadata": {
        "id": "_46-eaf7K-4G",
        "colab_type": "code",
        "colab": {}
      },
      "source": [
        "plt.figure(figsize= (14,6))\n",
        "plt.plot(loss_arr)"
      ],
      "execution_count": 0,
      "outputs": []
    }
  ]
}