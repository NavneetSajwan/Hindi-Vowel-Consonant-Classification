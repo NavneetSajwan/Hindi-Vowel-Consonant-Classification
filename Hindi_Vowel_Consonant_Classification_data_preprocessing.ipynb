{
  "nbformat": 4,
  "nbformat_minor": 0,
  "metadata": {
    "colab": {
      "name": "Hindi Vowel/Consonant Classification data preprocessing.ipynb",
      "provenance": [],
      "collapsed_sections": [],
      "include_colab_link": true
    },
    "kernelspec": {
      "name": "python3",
      "display_name": "Python 3"
    },
    "accelerator": "GPU"
  },
  "cells": [
    {
      "cell_type": "markdown",
      "metadata": {
        "id": "view-in-github",
        "colab_type": "text"
      },
      "source": [
        "<a href=\"https://colab.research.google.com/github/NavneetSajwan/Hindi-Vowel-Consonant-Classification/blob/master/Hindi_Vowel_Consonant_Classification_data_preprocessing.ipynb\" target=\"_parent\"><img src=\"https://colab.research.google.com/assets/colab-badge.svg\" alt=\"Open In Colab\"/></a>"
      ]
    },
    {
      "cell_type": "code",
      "metadata": {
        "id": "C5Ga95AcppTh",
        "colab_type": "code",
        "colab": {}
      },
      "source": [
        "import os\n",
        "import matplotlib.pyplot as plt\n",
        "import seaborn as sns\n",
        "from PIL import Image\n",
        "import numpy as np\n",
        "from time import time"
      ],
      "execution_count": 0,
      "outputs": []
    },
    {
      "cell_type": "code",
      "metadata": {
        "id": "NiyvnSRVH0Zv",
        "colab_type": "code",
        "colab": {}
      },
      "source": [
        "import torch\n",
        "import torch.nn as nn\n",
        "import torch.optim as optim\n",
        "from torch.utils.data import Dataset, DataLoader\n",
        "import torchvision\n",
        "import torchvision.transforms as transforms\n",
        "import torch.nn.functional as F"
      ],
      "execution_count": 0,
      "outputs": []
    },
    {
      "cell_type": "code",
      "metadata": {
        "id": "MiKi7JAPwkMS",
        "colab_type": "code",
        "colab": {}
      },
      "source": [
        "from torchvision import models"
      ],
      "execution_count": 0,
      "outputs": []
    },
    {
      "cell_type": "markdown",
      "metadata": {
        "id": "c_J0RT5I3ww3",
        "colab_type": "text"
      },
      "source": [
        "# Data Fetching"
      ]
    },
    {
      "cell_type": "code",
      "metadata": {
        "id": "wb7blxWWyVND",
        "colab_type": "code",
        "colab": {}
      },
      "source": [
        "# from google.colab import drive\n",
        "# drive.mount('/content/drive')"
      ],
      "execution_count": 0,
      "outputs": []
    },
    {
      "cell_type": "code",
      "metadata": {
        "id": "RraSrnBDqpdz",
        "colab_type": "code",
        "colab": {}
      },
      "source": [
        "# os.environ['KAGGLE_USERNAME'] = \"navneetsajwan\" \n",
        "# os.environ['KAGGLE_KEY'] = \"fc19a2773ae7ed2042f95e40250fa407\" "
      ],
      "execution_count": 0,
      "outputs": []
    },
    {
      "cell_type": "code",
      "metadata": {
        "id": "wRqzjsRbq8Ob",
        "colab_type": "code",
        "colab": {}
      },
      "source": [
        "# !kaggle competitions download -c padhai-hindi-vowel-consonant-classification"
      ],
      "execution_count": 0,
      "outputs": []
    },
    {
      "cell_type": "code",
      "metadata": {
        "id": "4W4oseBisWXS",
        "colab_type": "code",
        "colab": {}
      },
      "source": [
        "# os.getcwd()"
      ],
      "execution_count": 0,
      "outputs": []
    },
    {
      "cell_type": "code",
      "metadata": {
        "id": "8b0SJpJDvAOs",
        "colab_type": "code",
        "colab": {}
      },
      "source": [
        "# !unzip -q test.zip"
      ],
      "execution_count": 0,
      "outputs": []
    },
    {
      "cell_type": "code",
      "metadata": {
        "id": "2uRzXmmDvPVv",
        "colab_type": "code",
        "colab": {}
      },
      "source": [
        "# !unzip -q train.zip"
      ],
      "execution_count": 0,
      "outputs": []
    },
    {
      "cell_type": "code",
      "metadata": {
        "id": "gGfYZbXPvlkM",
        "colab_type": "code",
        "colab": {}
      },
      "source": [
        "files=os.listdir('train/')"
      ],
      "execution_count": 0,
      "outputs": []
    },
    {
      "cell_type": "code",
      "metadata": {
        "id": "h5_4nJXg2rFp",
        "colab_type": "code",
        "outputId": "328ce098-cf1f-4944-985d-22cfb9a08af9",
        "colab": {
          "base_uri": "https://localhost:8080/",
          "height": 34
        }
      },
      "source": [
        "len(files)"
      ],
      "execution_count": 12,
      "outputs": [
        {
          "output_type": "execute_result",
          "data": {
            "text/plain": [
              "10000"
            ]
          },
          "metadata": {
            "tags": []
          },
          "execution_count": 12
        }
      ]
    },
    {
      "cell_type": "code",
      "metadata": {
        "id": "wa0A9wNP2t-E",
        "colab_type": "code",
        "outputId": "84e9f8b0-9196-444e-b387-c4fc9814ba76",
        "colab": {
          "base_uri": "https://localhost:8080/",
          "height": 34
        }
      },
      "source": [
        "files[0]"
      ],
      "execution_count": 13,
      "outputs": [
        {
          "output_type": "execute_result",
          "data": {
            "text/plain": [
              "'V1_C9_82.png'"
            ]
          },
          "metadata": {
            "tags": []
          },
          "execution_count": 13
        }
      ]
    },
    {
      "cell_type": "code",
      "metadata": {
        "id": "l3XknI9lou6j",
        "colab_type": "code",
        "outputId": "cc2e5ec6-7336-4728-d26e-70863fb8f7cf",
        "colab": {
          "base_uri": "https://localhost:8080/",
          "height": 34
        }
      },
      "source": [
        "vowel=int(files[0][1])\n",
        "type(vowel)\n",
        "# print(vowel)\n"
      ],
      "execution_count": 14,
      "outputs": [
        {
          "output_type": "execute_result",
          "data": {
            "text/plain": [
              "int"
            ]
          },
          "metadata": {
            "tags": []
          },
          "execution_count": 14
        }
      ]
    },
    {
      "cell_type": "code",
      "metadata": {
        "id": "zFQgLTsOn8Ph",
        "colab_type": "code",
        "colab": {}
      },
      "source": [
        "y_vowel=[]\n",
        "y_consonant=[]\n",
        "for file in files:\n",
        "  vowel_idx=int(file[1])\n",
        "  cons_idx=int(file[4])\n",
        "  y_vowel.append(vowel_idx)\n",
        "  y_consonant.append(cons_idx)"
      ],
      "execution_count": 0,
      "outputs": []
    },
    {
      "cell_type": "code",
      "metadata": {
        "id": "Cvt9H0KGucl_",
        "colab_type": "code",
        "outputId": "2361832f-c245-400c-db8c-2d1a811a19ad",
        "colab": {
          "base_uri": "https://localhost:8080/",
          "height": 51
        }
      },
      "source": [
        "print(min(y_vowel),max(y_vowel))\n",
        "print(min(y_consonant),max(y_consonant))\n"
      ],
      "execution_count": 16,
      "outputs": [
        {
          "output_type": "stream",
          "text": [
            "0 9\n",
            "0 9\n"
          ],
          "name": "stdout"
        }
      ]
    },
    {
      "cell_type": "code",
      "metadata": {
        "id": "FIgg-ma_ooIb",
        "colab_type": "code",
        "outputId": "a8507bd8-6456-4fcc-8111-2db6093003fe",
        "colab": {
          "base_uri": "https://localhost:8080/",
          "height": 395
        }
      },
      "source": [
        "plt.figure(figsize=(14,6))\n",
        "sns.distplot(y_vowel)"
      ],
      "execution_count": 17,
      "outputs": [
        {
          "output_type": "execute_result",
          "data": {
            "text/plain": [
              "<matplotlib.axes._subplots.AxesSubplot at 0x7f2656127dd8>"
            ]
          },
          "metadata": {
            "tags": []
          },
          "execution_count": 17
        },
        {
          "output_type": "display_data",
          "data": {
            "image/png": "[encoded data removed]",
            "text/plain": [
              "<Figure size 1008x432 with 1 Axes>"
            ]
          },
          "metadata": {
            "tags": []
          }
        }
      ]
    },
    {
      "cell_type": "code",
      "metadata": {
        "id": "iNDxonqWsq7e",
        "colab_type": "code",
        "colab": {}
      },
      "source": [
        "import pandas as pd\n",
        "df= pd.read_csv(\"/content/drive/My Drive/vowel-consonant-mapping - Hindi.csv\")"
      ],
      "execution_count": 0,
      "outputs": []
    },
    {
      "cell_type": "code",
      "metadata": {
        "id": "yyepnmMA1zsh",
        "colab_type": "code",
        "outputId": "fa2ef110-75d4-46b0-d742-c325c001b7bd",
        "colab": {
          "base_uri": "https://localhost:8080/",
          "height": 421
        }
      },
      "source": [
        "df.head(12)"
      ],
      "execution_count": 19,
      "outputs": [
        {
          "output_type": "execute_result",
          "data": {
            "text/html": [
              "<div>\n",
              "<style scoped>\n",
              "    .dataframe tbody tr th:only-of-type {\n",
              "        vertical-align: middle;\n",
              "    }\n",
              "\n",
              "    .dataframe tbody tr th {\n",
              "        vertical-align: top;\n",
              "    }\n",
              "\n",
              "    .dataframe thead th {\n",
              "        text-align: right;\n",
              "    }\n",
              "</style>\n",
              "<table border=\"1\" class=\"dataframe\">\n",
              "  <thead>\n",
              "    <tr style=\"text-align: right;\">\n",
              "      <th></th>\n",
              "      <th>Unnamed: 0</th>\n",
              "      <th>Unnamed: 1</th>\n",
              "      <th>V0</th>\n",
              "      <th>V1</th>\n",
              "      <th>V2</th>\n",
              "      <th>V3</th>\n",
              "      <th>V4</th>\n",
              "      <th>V5</th>\n",
              "      <th>V6</th>\n",
              "      <th>V7</th>\n",
              "      <th>V8</th>\n",
              "      <th>V9</th>\n",
              "      <th>V10</th>\n",
              "      <th>V11</th>\n",
              "    </tr>\n",
              "  </thead>\n",
              "  <tbody>\n",
              "    <tr>\n",
              "      <th>0</th>\n",
              "      <td>NaN</td>\n",
              "      <td>NaN</td>\n",
              "      <td>0</td>\n",
              "      <td>आ</td>\n",
              "      <td>इ</td>\n",
              "      <td>ई</td>\n",
              "      <td>उ</td>\n",
              "      <td>ऊ</td>\n",
              "      <td>ऋ</td>\n",
              "      <td>ए</td>\n",
              "      <td>ऐ</td>\n",
              "      <td>ऑ</td>\n",
              "      <td>ओ</td>\n",
              "      <td>औ</td>\n",
              "    </tr>\n",
              "    <tr>\n",
              "      <th>1</th>\n",
              "      <td>C0</td>\n",
              "      <td>0</td>\n",
              "      <td>अ</td>\n",
              "      <td>आ</td>\n",
              "      <td>इ</td>\n",
              "      <td>ई</td>\n",
              "      <td>उ</td>\n",
              "      <td>ऊ</td>\n",
              "      <td>ऋ</td>\n",
              "      <td>ए</td>\n",
              "      <td>ऐ</td>\n",
              "      <td>ऑ</td>\n",
              "      <td>ओ</td>\n",
              "      <td>औ</td>\n",
              "    </tr>\n",
              "    <tr>\n",
              "      <th>2</th>\n",
              "      <td>C1</td>\n",
              "      <td>क</td>\n",
              "      <td>क</td>\n",
              "      <td>का</td>\n",
              "      <td>कि</td>\n",
              "      <td>की</td>\n",
              "      <td>कु</td>\n",
              "      <td>कू</td>\n",
              "      <td>कृ</td>\n",
              "      <td>के</td>\n",
              "      <td>कै</td>\n",
              "      <td>कॉ</td>\n",
              "      <td>को</td>\n",
              "      <td>कौ</td>\n",
              "    </tr>\n",
              "    <tr>\n",
              "      <th>3</th>\n",
              "      <td>C2</td>\n",
              "      <td>ख</td>\n",
              "      <td>ख</td>\n",
              "      <td>खा</td>\n",
              "      <td>खि</td>\n",
              "      <td>खी</td>\n",
              "      <td>खु</td>\n",
              "      <td>खू</td>\n",
              "      <td>खृ</td>\n",
              "      <td>खे</td>\n",
              "      <td>खै</td>\n",
              "      <td>खॉ</td>\n",
              "      <td>खो</td>\n",
              "      <td>खौ</td>\n",
              "    </tr>\n",
              "    <tr>\n",
              "      <th>4</th>\n",
              "      <td>C3</td>\n",
              "      <td>ग</td>\n",
              "      <td>ग</td>\n",
              "      <td>गा</td>\n",
              "      <td>गि</td>\n",
              "      <td>गी</td>\n",
              "      <td>गु</td>\n",
              "      <td>गू</td>\n",
              "      <td>गृ</td>\n",
              "      <td>गे</td>\n",
              "      <td>गै</td>\n",
              "      <td>गॉ</td>\n",
              "      <td>गो</td>\n",
              "      <td>गौ</td>\n",
              "    </tr>\n",
              "    <tr>\n",
              "      <th>5</th>\n",
              "      <td>C4</td>\n",
              "      <td>घ</td>\n",
              "      <td>घ</td>\n",
              "      <td>घा</td>\n",
              "      <td>घि</td>\n",
              "      <td>घी</td>\n",
              "      <td>घु</td>\n",
              "      <td>घू</td>\n",
              "      <td>घृ</td>\n",
              "      <td>घे</td>\n",
              "      <td>घै</td>\n",
              "      <td>घॉ</td>\n",
              "      <td>घो</td>\n",
              "      <td>घौ</td>\n",
              "    </tr>\n",
              "    <tr>\n",
              "      <th>6</th>\n",
              "      <td>C5</td>\n",
              "      <td>ङ</td>\n",
              "      <td>ङ</td>\n",
              "      <td>ङा</td>\n",
              "      <td>ङि</td>\n",
              "      <td>ङी</td>\n",
              "      <td>ङु</td>\n",
              "      <td>ङू</td>\n",
              "      <td>ङृ</td>\n",
              "      <td>ङे</td>\n",
              "      <td>ङै</td>\n",
              "      <td>ङॉ</td>\n",
              "      <td>ङो</td>\n",
              "      <td>ङौ</td>\n",
              "    </tr>\n",
              "    <tr>\n",
              "      <th>7</th>\n",
              "      <td>C6</td>\n",
              "      <td>च</td>\n",
              "      <td>च</td>\n",
              "      <td>चा</td>\n",
              "      <td>चि</td>\n",
              "      <td>ची</td>\n",
              "      <td>चु</td>\n",
              "      <td>चू</td>\n",
              "      <td>चृ</td>\n",
              "      <td>चे</td>\n",
              "      <td>चै</td>\n",
              "      <td>चॉ</td>\n",
              "      <td>चो</td>\n",
              "      <td>चौ</td>\n",
              "    </tr>\n",
              "    <tr>\n",
              "      <th>8</th>\n",
              "      <td>C7</td>\n",
              "      <td>छ</td>\n",
              "      <td>छ</td>\n",
              "      <td>छा</td>\n",
              "      <td>छि</td>\n",
              "      <td>छी</td>\n",
              "      <td>छु</td>\n",
              "      <td>छू</td>\n",
              "      <td>छृ</td>\n",
              "      <td>छे</td>\n",
              "      <td>छै</td>\n",
              "      <td>छॉ</td>\n",
              "      <td>छो</td>\n",
              "      <td>छौ</td>\n",
              "    </tr>\n",
              "    <tr>\n",
              "      <th>9</th>\n",
              "      <td>C8</td>\n",
              "      <td>ज</td>\n",
              "      <td>ज</td>\n",
              "      <td>जा</td>\n",
              "      <td>जि</td>\n",
              "      <td>जी</td>\n",
              "      <td>जु</td>\n",
              "      <td>जू</td>\n",
              "      <td>जृ</td>\n",
              "      <td>जे</td>\n",
              "      <td>जै</td>\n",
              "      <td>जॉ</td>\n",
              "      <td>जो</td>\n",
              "      <td>जौ</td>\n",
              "    </tr>\n",
              "    <tr>\n",
              "      <th>10</th>\n",
              "      <td>C9</td>\n",
              "      <td>झ</td>\n",
              "      <td>झ</td>\n",
              "      <td>झा</td>\n",
              "      <td>झि</td>\n",
              "      <td>झी</td>\n",
              "      <td>झु</td>\n",
              "      <td>झू</td>\n",
              "      <td>झृ</td>\n",
              "      <td>झे</td>\n",
              "      <td>झै</td>\n",
              "      <td>झॉ</td>\n",
              "      <td>झो</td>\n",
              "      <td>झौ</td>\n",
              "    </tr>\n",
              "    <tr>\n",
              "      <th>11</th>\n",
              "      <td>C10</td>\n",
              "      <td>ञ</td>\n",
              "      <td>ञ</td>\n",
              "      <td>ञा</td>\n",
              "      <td>ञि</td>\n",
              "      <td>ञी</td>\n",
              "      <td>ञु</td>\n",
              "      <td>ञू</td>\n",
              "      <td>ञृ</td>\n",
              "      <td>ञे</td>\n",
              "      <td>ञै</td>\n",
              "      <td>ञॉ</td>\n",
              "      <td>ञो</td>\n",
              "      <td>ञौ</td>\n",
              "    </tr>\n",
              "  </tbody>\n",
              "</table>\n",
              "</div>"
            ],
            "text/plain": [
              "   Unnamed: 0 Unnamed: 1 V0  V1  V2  V3  V4  V5  V6  V7  V8  V9 V10 V11\n",
              "0         NaN        NaN  0   आ   इ   ई   उ   ऊ   ऋ   ए   ऐ   ऑ   ओ   औ\n",
              "1          C0          0  अ   आ   इ   ई   उ   ऊ   ऋ   ए   ऐ   ऑ   ओ   औ\n",
              "2          C1          क  क  का  कि  की  कु  कू  कृ  के  कै  कॉ  को  कौ\n",
              "3          C2          ख  ख  खा  खि  खी  खु  खू  खृ  खे  खै  खॉ  खो  खौ\n",
              "4          C3          ग  ग  गा  गि  गी  गु  गू  गृ  गे  गै  गॉ  गो  गौ\n",
              "5          C4          घ  घ  घा  घि  घी  घु  घू  घृ  घे  घै  घॉ  घो  घौ\n",
              "6          C5          ङ  ङ  ङा  ङि  ङी  ङु  ङू  ङृ  ङे  ङै  ङॉ  ङो  ङौ\n",
              "7          C6          च  च  चा  चि  ची  चु  चू  चृ  चे  चै  चॉ  चो  चौ\n",
              "8          C7          छ  छ  छा  छि  छी  छु  छू  छृ  छे  छै  छॉ  छो  छौ\n",
              "9          C8          ज  ज  जा  जि  जी  जु  जू  जृ  जे  जै  जॉ  जो  जौ\n",
              "10         C9          झ  झ  झा  झि  झी  झु  झू  झृ  झे  झै  झॉ  झो  झौ\n",
              "11        C10          ञ  ञ  ञा  ञि  ञी  ञु  ञू  ञृ  ञे  ञै  ञॉ  ञो  ञौ"
            ]
          },
          "metadata": {
            "tags": []
          },
          "execution_count": 19
        }
      ]
    },
    {
      "cell_type": "code",
      "metadata": {
        "id": "oiPV5wo617sG",
        "colab_type": "code",
        "colab": {}
      },
      "source": [
        "vowels=list(df.iloc[1,2:12])\n",
        "consonants= list(df.iloc[1:11,1])"
      ],
      "execution_count": 0,
      "outputs": []
    },
    {
      "cell_type": "code",
      "metadata": {
        "id": "0WGIhXJpNc6V",
        "colab_type": "code",
        "outputId": "3d9e57da-cb81-479a-cf54-e39412b80a64",
        "colab": {
          "base_uri": "https://localhost:8080/",
          "height": 34
        }
      },
      "source": [
        "len(consonants)"
      ],
      "execution_count": 21,
      "outputs": [
        {
          "output_type": "execute_result",
          "data": {
            "text/plain": [
              "10"
            ]
          },
          "metadata": {
            "tags": []
          },
          "execution_count": 21
        }
      ]
    },
    {
      "cell_type": "markdown",
      "metadata": {
        "id": "d_V3XKtb3Lpp",
        "colab_type": "text"
      },
      "source": [
        "## Converting image into arrays\n",
        "\n"
      ]
    },
    {
      "cell_type": "code",
      "metadata": {
        "id": "r4AU7zJPmw_G",
        "colab_type": "code",
        "colab": {}
      },
      "source": [
        "transformer = transforms.Compose([\n",
        "                                  # transforms.Grayscale(1),\n",
        "                                  transforms.ToTensor(),\n",
        "                                  # transforms.Normalize((0.5,),(0.5,))\n",
        "                                ])"
      ],
      "execution_count": 0,
      "outputs": []
    },
    {
      "cell_type": "code",
      "metadata": {
        "id": "gDeKPOK7mutb",
        "colab_type": "code",
        "colab": {}
      },
      "source": [
        "# image, vow, cons=trainset.__getitem__(3)\n",
        "# print(image)"
      ],
      "execution_count": 0,
      "outputs": []
    },
    {
      "cell_type": "code",
      "metadata": {
        "id": "CublwP9Z3LDz",
        "colab_type": "code",
        "colab": {}
      },
      "source": [
        "class DatasetHindi(Dataset):\n",
        "  def __init__(self, folderpath, images_list, l_vowel=None, l_cons=None, transform=None ):\n",
        "    self.folder_path=folderpath\n",
        "    self.images_list =  images_list\n",
        "    self.l_vowel = l_vowel\n",
        "    self.l_cons = l_cons\n",
        "    self.transform= transform\n",
        "\n",
        "  def __len__(self):\n",
        "    return len(self.images_list)\n",
        "\n",
        "  def __getitem__(self, index):\n",
        "    filepath= os.path.join(self.folder_path, self.images_list[index])\n",
        "    image = Image.open(filepath).convert('RGB')\n",
        "    # image= transforms.functional.adjust_brightness(image,2)\n",
        "    # image = transforms.functional.adjust_contrast(image, 2)\n",
        "    # image = transforms.functional.adjust_saturation(image,2)\n",
        "    \n",
        "    # torchvision.transforms.functional.to_tensor(image)\n",
        "    # image = np.array(image).astype(np.uint8)\n",
        "    # if image.shape[2]==4:\n",
        "    #   image = image[:,:,:-1]\n",
        "    # Reshaping the image to torchvision tensors\n",
        "    # image = np.transpose(image, (2,0,1))\n",
        "    # print(image.shape)\n",
        "    if self.transform is not None:\n",
        "      # print(image.shape)\n",
        "      image = self.transform(image)\n",
        "      # print(image.shape)\n",
        "    if self.l_vowel is not None:\n",
        "      l_v = self.l_vowel[index]\n",
        "\n",
        "    if self.l_cons is not None:\n",
        "      l_c = self.l_cons[index]\n",
        "\n",
        "    return image, l_v, l_c"
      ],
      "execution_count": 0,
      "outputs": []
    },
    {
      "cell_type": "code",
      "metadata": {
        "id": "fbCf6R1D3IaY",
        "colab_type": "code",
        "outputId": "f374a759-5d89-42ff-b4a7-fd9d2a735932",
        "colab": {
          "base_uri": "https://localhost:8080/",
          "height": 34
        }
      },
      "source": [
        "trainset = DatasetHindi('train/', files, y_vowel, y_consonant, transform=transformer)\n",
        "batch=256\n",
        "trainloader=DataLoader(trainset, batch_size= batch, shuffle= True)\n",
        "image, lab_vowel, lab_cons= iter(trainloader).next()\n",
        "image.shape\n",
        "# print(lab_vowel)\n",
        "# displaying the image post transforms\n"
      ],
      "execution_count": 25,
      "outputs": [
        {
          "output_type": "execute_result",
          "data": {
            "text/plain": [
              "torch.Size([256, 3, 64, 64])"
            ]
          },
          "metadata": {
            "tags": []
          },
          "execution_count": 25
        }
      ]
    },
    {
      "cell_type": "code",
      "metadata": {
        "id": "W800OxJ8prSl",
        "colab_type": "code",
        "outputId": "dc993a6c-78ca-467a-a079-b0bc2bdddf6b",
        "colab": {
          "base_uri": "https://localhost:8080/",
          "height": 300
        }
      },
      "source": [
        "npimg=np.array(image)\n",
        "npimg= np.transpose(npimg, (0,2,3,1))\n",
        "sample = np.random.randint(batch)\n",
        "# sample=3\n",
        "#Transformed Image\n",
        "plt.figure()\n",
        "plt.imshow(npimg[sample,:,:,:])\n",
        "plt.xlabel(str(consonants[lab_cons[sample]])+\" \"+str(vowels[lab_vowel[sample]]))"
      ],
      "execution_count": 26,
      "outputs": [
        {
          "output_type": "execute_result",
          "data": {
            "text/plain": [
              "Text(0.5, 0, 'ज आ')"
            ]
          },
          "metadata": {
            "tags": []
          },
          "execution_count": 26
        },
        {
          "output_type": "display_data",
          "data": {
            "image/png": "[encoded data removed]",
            "text/plain": [
              "<Figure size 432x288 with 1 Axes>"
            ]
          },
          "metadata": {
            "tags": []
          }
        }
      ]
    },
    {
      "cell_type": "markdown",
      "metadata": {
        "id": "ozyDiaIBfZ17",
        "colab_type": "text"
      },
      "source": [
        "# Creating the Network Class"
      ]
    },
    {
      "cell_type": "code",
      "metadata": {
        "id": "-q0oevszgV7x",
        "colab_type": "code",
        "outputId": "57ebd82e-e7a5-498f-a816-62e13d85b576",
        "colab": {
          "base_uri": "https://localhost:8080/",
          "height": 34
        }
      },
      "source": [
        "device=\"cuda:0\" if torch.cuda.is_available() else \"cpu\"\n",
        "type(device)"
      ],
      "execution_count": 27,
      "outputs": [
        {
          "output_type": "execute_result",
          "data": {
            "text/plain": [
              "str"
            ]
          },
          "metadata": {
            "tags": []
          },
          "execution_count": 27
        }
      ]
    },
    {
      "cell_type": "code",
      "metadata": {
        "id": "lVZhKqpaxgLz",
        "colab_type": "code",
        "colab": {}
      },
      "source": [
        "model=models.resnet18(pretrained=True)"
      ],
      "execution_count": 0,
      "outputs": []
    },
    {
      "cell_type": "code",
      "metadata": {
        "id": "tM-HPPfWyBAu",
        "colab_type": "code",
        "colab": {
          "base_uri": "https://localhost:8080/",
          "height": 1000
        },
        "outputId": "0f2f8906-c326-448e-b7bf-60856f7d6086"
      },
      "source": [
        "print(model)"
      ],
      "execution_count": 29,
      "outputs": [
        {
          "output_type": "stream",
          "text": [
            "ResNet(\n",
            "  (conv1): Conv2d(3, 64, kernel_size=(7, 7), stride=(2, 2), padding=(3, 3), bias=False)\n",
            "  (bn1): BatchNorm2d(64, eps=1e-05, momentum=0.1, affine=True, track_running_stats=True)\n",
            "  (relu): ReLU(inplace)\n",
            "  (maxpool): MaxPool2d(kernel_size=3, stride=2, padding=1, dilation=1, ceil_mode=False)\n",
            "  (layer1): Sequential(\n",
            "    (0): BasicBlock(\n",
            "      (conv1): Conv2d(64, 64, kernel_size=(3, 3), stride=(1, 1), padding=(1, 1), bias=False)\n",
            "      (bn1): BatchNorm2d(64, eps=1e-05, momentum=0.1, affine=True, track_running_stats=True)\n",
            "      (relu): ReLU(inplace)\n",
            "      (conv2): Conv2d(64, 64, kernel_size=(3, 3), stride=(1, 1), padding=(1, 1), bias=False)\n",
            "      (bn2): BatchNorm2d(64, eps=1e-05, momentum=0.1, affine=True, track_running_stats=True)\n",
            "    )\n",
            "    (1): BasicBlock(\n",
            "      (conv1): Conv2d(64, 64, kernel_size=(3, 3), stride=(1, 1), padding=(1, 1), bias=False)\n",
            "      (bn1): BatchNorm2d(64, eps=1e-05, momentum=0.1, affine=True, track_running_stats=True)\n",
            "      (relu): ReLU(inplace)\n",
            "      (conv2): Conv2d(64, 64, kernel_size=(3, 3), stride=(1, 1), padding=(1, 1), bias=False)\n",
            "      (bn2): BatchNorm2d(64, eps=1e-05, momentum=0.1, affine=True, track_running_stats=True)\n",
            "    )\n",
            "  )\n",
            "  (layer2): Sequential(\n",
            "    (0): BasicBlock(\n",
            "      (conv1): Conv2d(64, 128, kernel_size=(3, 3), stride=(2, 2), padding=(1, 1), bias=False)\n",
            "      (bn1): BatchNorm2d(128, eps=1e-05, momentum=0.1, affine=True, track_running_stats=True)\n",
            "      (relu): ReLU(inplace)\n",
            "      (conv2): Conv2d(128, 128, kernel_size=(3, 3), stride=(1, 1), padding=(1, 1), bias=False)\n",
            "      (bn2): BatchNorm2d(128, eps=1e-05, momentum=0.1, affine=True, track_running_stats=True)\n",
            "      (downsample): Sequential(\n",
            "        (0): Conv2d(64, 128, kernel_size=(1, 1), stride=(2, 2), bias=False)\n",
            "        (1): BatchNorm2d(128, eps=1e-05, momentum=0.1, affine=True, track_running_stats=True)\n",
            "      )\n",
            "    )\n",
            "    (1): BasicBlock(\n",
            "      (conv1): Conv2d(128, 128, kernel_size=(3, 3), stride=(1, 1), padding=(1, 1), bias=False)\n",
            "      (bn1): BatchNorm2d(128, eps=1e-05, momentum=0.1, affine=True, track_running_stats=True)\n",
            "      (relu): ReLU(inplace)\n",
            "      (conv2): Conv2d(128, 128, kernel_size=(3, 3), stride=(1, 1), padding=(1, 1), bias=False)\n",
            "      (bn2): BatchNorm2d(128, eps=1e-05, momentum=0.1, affine=True, track_running_stats=True)\n",
            "    )\n",
            "  )\n",
            "  (layer3): Sequential(\n",
            "    (0): BasicBlock(\n",
            "      (conv1): Conv2d(128, 256, kernel_size=(3, 3), stride=(2, 2), padding=(1, 1), bias=False)\n",
            "      (bn1): BatchNorm2d(256, eps=1e-05, momentum=0.1, affine=True, track_running_stats=True)\n",
            "      (relu): ReLU(inplace)\n",
            "      (conv2): Conv2d(256, 256, kernel_size=(3, 3), stride=(1, 1), padding=(1, 1), bias=False)\n",
            "      (bn2): BatchNorm2d(256, eps=1e-05, momentum=0.1, affine=True, track_running_stats=True)\n",
            "      (downsample): Sequential(\n",
            "        (0): Conv2d(128, 256, kernel_size=(1, 1), stride=(2, 2), bias=False)\n",
            "        (1): BatchNorm2d(256, eps=1e-05, momentum=0.1, affine=True, track_running_stats=True)\n",
            "      )\n",
            "    )\n",
            "    (1): BasicBlock(\n",
            "      (conv1): Conv2d(256, 256, kernel_size=(3, 3), stride=(1, 1), padding=(1, 1), bias=False)\n",
            "      (bn1): BatchNorm2d(256, eps=1e-05, momentum=0.1, affine=True, track_running_stats=True)\n",
            "      (relu): ReLU(inplace)\n",
            "      (conv2): Conv2d(256, 256, kernel_size=(3, 3), stride=(1, 1), padding=(1, 1), bias=False)\n",
            "      (bn2): BatchNorm2d(256, eps=1e-05, momentum=0.1, affine=True, track_running_stats=True)\n",
            "    )\n",
            "  )\n",
            "  (layer4): Sequential(\n",
            "    (0): BasicBlock(\n",
            "      (conv1): Conv2d(256, 512, kernel_size=(3, 3), stride=(2, 2), padding=(1, 1), bias=False)\n",
            "      (bn1): BatchNorm2d(512, eps=1e-05, momentum=0.1, affine=True, track_running_stats=True)\n",
            "      (relu): ReLU(inplace)\n",
            "      (conv2): Conv2d(512, 512, kernel_size=(3, 3), stride=(1, 1), padding=(1, 1), bias=False)\n",
            "      (bn2): BatchNorm2d(512, eps=1e-05, momentum=0.1, affine=True, track_running_stats=True)\n",
            "      (downsample): Sequential(\n",
            "        (0): Conv2d(256, 512, kernel_size=(1, 1), stride=(2, 2), bias=False)\n",
            "        (1): BatchNorm2d(512, eps=1e-05, momentum=0.1, affine=True, track_running_stats=True)\n",
            "      )\n",
            "    )\n",
            "    (1): BasicBlock(\n",
            "      (conv1): Conv2d(512, 512, kernel_size=(3, 3), stride=(1, 1), padding=(1, 1), bias=False)\n",
            "      (bn1): BatchNorm2d(512, eps=1e-05, momentum=0.1, affine=True, track_running_stats=True)\n",
            "      (relu): ReLU(inplace)\n",
            "      (conv2): Conv2d(512, 512, kernel_size=(3, 3), stride=(1, 1), padding=(1, 1), bias=False)\n",
            "      (bn2): BatchNorm2d(512, eps=1e-05, momentum=0.1, affine=True, track_running_stats=True)\n",
            "    )\n",
            "  )\n",
            "  (avgpool): AdaptiveAvgPool2d(output_size=(1, 1))\n",
            "  (fc): Linear(in_features=512, out_features=1000, bias=True)\n",
            ")\n"
          ],
          "name": "stdout"
        }
      ]
    },
    {
      "cell_type": "code",
      "metadata": {
        "id": "8ln8G7kjyops",
        "colab_type": "code",
        "colab": {}
      },
      "source": [
        "def freeze_model(model):\n",
        "  for param in model.parameters():\n",
        "    param.requires_grad=False\n",
        "  final_in_features= model.fc.in_features\n",
        "  model.fc=nn.Linear(final_in_features, out_features=512 , bias=True)\n",
        "  for param in model.parameters():\n",
        "    if param.requires_grad== True:\n",
        "      print(param.shape)"
      ],
      "execution_count": 0,
      "outputs": []
    },
    {
      "cell_type": "code",
      "metadata": {
        "id": "jXWVNPdeSC8a",
        "colab_type": "code",
        "outputId": "b3d9024d-54cf-430c-fe7d-030227380e70",
        "colab": {
          "base_uri": "https://localhost:8080/",
          "height": 51
        }
      },
      "source": [
        "freeze_model(model)\n"
      ],
      "execution_count": 31,
      "outputs": [
        {
          "output_type": "stream",
          "text": [
            "torch.Size([512, 512])\n",
            "torch.Size([512])\n"
          ],
          "name": "stdout"
        }
      ]
    },
    {
      "cell_type": "code",
      "metadata": {
        "id": "1d7eSb92pVcx",
        "colab_type": "code",
        "colab": {
          "base_uri": "https://localhost:8080/",
          "height": 1000
        },
        "outputId": "d0990d4a-8433-4810-f3f1-ec3d4137df23"
      },
      "source": [
        "print(model)"
      ],
      "execution_count": 32,
      "outputs": [
        {
          "output_type": "stream",
          "text": [
            "ResNet(\n",
            "  (conv1): Conv2d(3, 64, kernel_size=(7, 7), stride=(2, 2), padding=(3, 3), bias=False)\n",
            "  (bn1): BatchNorm2d(64, eps=1e-05, momentum=0.1, affine=True, track_running_stats=True)\n",
            "  (relu): ReLU(inplace)\n",
            "  (maxpool): MaxPool2d(kernel_size=3, stride=2, padding=1, dilation=1, ceil_mode=False)\n",
            "  (layer1): Sequential(\n",
            "    (0): BasicBlock(\n",
            "      (conv1): Conv2d(64, 64, kernel_size=(3, 3), stride=(1, 1), padding=(1, 1), bias=False)\n",
            "      (bn1): BatchNorm2d(64, eps=1e-05, momentum=0.1, affine=True, track_running_stats=True)\n",
            "      (relu): ReLU(inplace)\n",
            "      (conv2): Conv2d(64, 64, kernel_size=(3, 3), stride=(1, 1), padding=(1, 1), bias=False)\n",
            "      (bn2): BatchNorm2d(64, eps=1e-05, momentum=0.1, affine=True, track_running_stats=True)\n",
            "    )\n",
            "    (1): BasicBlock(\n",
            "      (conv1): Conv2d(64, 64, kernel_size=(3, 3), stride=(1, 1), padding=(1, 1), bias=False)\n",
            "      (bn1): BatchNorm2d(64, eps=1e-05, momentum=0.1, affine=True, track_running_stats=True)\n",
            "      (relu): ReLU(inplace)\n",
            "      (conv2): Conv2d(64, 64, kernel_size=(3, 3), stride=(1, 1), padding=(1, 1), bias=False)\n",
            "      (bn2): BatchNorm2d(64, eps=1e-05, momentum=0.1, affine=True, track_running_stats=True)\n",
            "    )\n",
            "  )\n",
            "  (layer2): Sequential(\n",
            "    (0): BasicBlock(\n",
            "      (conv1): Conv2d(64, 128, kernel_size=(3, 3), stride=(2, 2), padding=(1, 1), bias=False)\n",
            "      (bn1): BatchNorm2d(128, eps=1e-05, momentum=0.1, affine=True, track_running_stats=True)\n",
            "      (relu): ReLU(inplace)\n",
            "      (conv2): Conv2d(128, 128, kernel_size=(3, 3), stride=(1, 1), padding=(1, 1), bias=False)\n",
            "      (bn2): BatchNorm2d(128, eps=1e-05, momentum=0.1, affine=True, track_running_stats=True)\n",
            "      (downsample): Sequential(\n",
            "        (0): Conv2d(64, 128, kernel_size=(1, 1), stride=(2, 2), bias=False)\n",
            "        (1): BatchNorm2d(128, eps=1e-05, momentum=0.1, affine=True, track_running_stats=True)\n",
            "      )\n",
            "    )\n",
            "    (1): BasicBlock(\n",
            "      (conv1): Conv2d(128, 128, kernel_size=(3, 3), stride=(1, 1), padding=(1, 1), bias=False)\n",
            "      (bn1): BatchNorm2d(128, eps=1e-05, momentum=0.1, affine=True, track_running_stats=True)\n",
            "      (relu): ReLU(inplace)\n",
            "      (conv2): Conv2d(128, 128, kernel_size=(3, 3), stride=(1, 1), padding=(1, 1), bias=False)\n",
            "      (bn2): BatchNorm2d(128, eps=1e-05, momentum=0.1, affine=True, track_running_stats=True)\n",
            "    )\n",
            "  )\n",
            "  (layer3): Sequential(\n",
            "    (0): BasicBlock(\n",
            "      (conv1): Conv2d(128, 256, kernel_size=(3, 3), stride=(2, 2), padding=(1, 1), bias=False)\n",
            "      (bn1): BatchNorm2d(256, eps=1e-05, momentum=0.1, affine=True, track_running_stats=True)\n",
            "      (relu): ReLU(inplace)\n",
            "      (conv2): Conv2d(256, 256, kernel_size=(3, 3), stride=(1, 1), padding=(1, 1), bias=False)\n",
            "      (bn2): BatchNorm2d(256, eps=1e-05, momentum=0.1, affine=True, track_running_stats=True)\n",
            "      (downsample): Sequential(\n",
            "        (0): Conv2d(128, 256, kernel_size=(1, 1), stride=(2, 2), bias=False)\n",
            "        (1): BatchNorm2d(256, eps=1e-05, momentum=0.1, affine=True, track_running_stats=True)\n",
            "      )\n",
            "    )\n",
            "    (1): BasicBlock(\n",
            "      (conv1): Conv2d(256, 256, kernel_size=(3, 3), stride=(1, 1), padding=(1, 1), bias=False)\n",
            "      (bn1): BatchNorm2d(256, eps=1e-05, momentum=0.1, affine=True, track_running_stats=True)\n",
            "      (relu): ReLU(inplace)\n",
            "      (conv2): Conv2d(256, 256, kernel_size=(3, 3), stride=(1, 1), padding=(1, 1), bias=False)\n",
            "      (bn2): BatchNorm2d(256, eps=1e-05, momentum=0.1, affine=True, track_running_stats=True)\n",
            "    )\n",
            "  )\n",
            "  (layer4): Sequential(\n",
            "    (0): BasicBlock(\n",
            "      (conv1): Conv2d(256, 512, kernel_size=(3, 3), stride=(2, 2), padding=(1, 1), bias=False)\n",
            "      (bn1): BatchNorm2d(512, eps=1e-05, momentum=0.1, affine=True, track_running_stats=True)\n",
            "      (relu): ReLU(inplace)\n",
            "      (conv2): Conv2d(512, 512, kernel_size=(3, 3), stride=(1, 1), padding=(1, 1), bias=False)\n",
            "      (bn2): BatchNorm2d(512, eps=1e-05, momentum=0.1, affine=True, track_running_stats=True)\n",
            "      (downsample): Sequential(\n",
            "        (0): Conv2d(256, 512, kernel_size=(1, 1), stride=(2, 2), bias=False)\n",
            "        (1): BatchNorm2d(512, eps=1e-05, momentum=0.1, affine=True, track_running_stats=True)\n",
            "      )\n",
            "    )\n",
            "    (1): BasicBlock(\n",
            "      (conv1): Conv2d(512, 512, kernel_size=(3, 3), stride=(1, 1), padding=(1, 1), bias=False)\n",
            "      (bn1): BatchNorm2d(512, eps=1e-05, momentum=0.1, affine=True, track_running_stats=True)\n",
            "      (relu): ReLU(inplace)\n",
            "      (conv2): Conv2d(512, 512, kernel_size=(3, 3), stride=(1, 1), padding=(1, 1), bias=False)\n",
            "      (bn2): BatchNorm2d(512, eps=1e-05, momentum=0.1, affine=True, track_running_stats=True)\n",
            "    )\n",
            "  )\n",
            "  (avgpool): AdaptiveAvgPool2d(output_size=(1, 1))\n",
            "  (fc): Linear(in_features=512, out_features=512, bias=True)\n",
            ")\n"
          ],
          "name": "stdout"
        }
      ]
    },
    {
      "cell_type": "code",
      "metadata": {
        "id": "gZk_rY5TpZ5A",
        "colab_type": "code",
        "colab": {}
      },
      "source": [
        "# Adding extra linear at fc for classifying consonant\n",
        "# mod_fc= nn.Sequential(*(list(model.children())[-1],nn.Linear(512, 10, bias=True)))\n",
        "# mod_fc.extend([nn.Linear(512, 10, bias=True)])\n",
        "# new_model = nn.Sequential(*list(model.children())[:-1])"
      ],
      "execution_count": 0,
      "outputs": []
    },
    {
      "cell_type": "code",
      "metadata": {
        "id": "dvePGxMU9lkl",
        "colab_type": "code",
        "colab": {}
      },
      "source": [
        "#modifying the last layer\n",
        "# final_in_features = model.fc.in_features\n",
        "# model.fc = nn.Linear(final_in_features, 512 ,bias =True)"
      ],
      "execution_count": 0,
      "outputs": []
    },
    {
      "cell_type": "code",
      "metadata": {
        "id": "gyw712G-vk59",
        "colab_type": "code",
        "outputId": "4e9738e4-2a12-4f71-b70f-bed499949088",
        "colab": {
          "base_uri": "https://localhost:8080/",
          "height": 1000
        }
      },
      "source": [
        "model"
      ],
      "execution_count": 35,
      "outputs": [
        {
          "output_type": "execute_result",
          "data": {
            "text/plain": [
              "ResNet(\n",
              "  (conv1): Conv2d(3, 64, kernel_size=(7, 7), stride=(2, 2), padding=(3, 3), bias=False)\n",
              "  (bn1): BatchNorm2d(64, eps=1e-05, momentum=0.1, affine=True, track_running_stats=True)\n",
              "  (relu): ReLU(inplace)\n",
              "  (maxpool): MaxPool2d(kernel_size=3, stride=2, padding=1, dilation=1, ceil_mode=False)\n",
              "  (layer1): Sequential(\n",
              "    (0): BasicBlock(\n",
              "      (conv1): Conv2d(64, 64, kernel_size=(3, 3), stride=(1, 1), padding=(1, 1), bias=False)\n",
              "      (bn1): BatchNorm2d(64, eps=1e-05, momentum=0.1, affine=True, track_running_stats=True)\n",
              "      (relu): ReLU(inplace)\n",
              "      (conv2): Conv2d(64, 64, kernel_size=(3, 3), stride=(1, 1), padding=(1, 1), bias=False)\n",
              "      (bn2): BatchNorm2d(64, eps=1e-05, momentum=0.1, affine=True, track_running_stats=True)\n",
              "    )\n",
              "    (1): BasicBlock(\n",
              "      (conv1): Conv2d(64, 64, kernel_size=(3, 3), stride=(1, 1), padding=(1, 1), bias=False)\n",
              "      (bn1): BatchNorm2d(64, eps=1e-05, momentum=0.1, affine=True, track_running_stats=True)\n",
              "      (relu): ReLU(inplace)\n",
              "      (conv2): Conv2d(64, 64, kernel_size=(3, 3), stride=(1, 1), padding=(1, 1), bias=False)\n",
              "      (bn2): BatchNorm2d(64, eps=1e-05, momentum=0.1, affine=True, track_running_stats=True)\n",
              "    )\n",
              "  )\n",
              "  (layer2): Sequential(\n",
              "    (0): BasicBlock(\n",
              "      (conv1): Conv2d(64, 128, kernel_size=(3, 3), stride=(2, 2), padding=(1, 1), bias=False)\n",
              "      (bn1): BatchNorm2d(128, eps=1e-05, momentum=0.1, affine=True, track_running_stats=True)\n",
              "      (relu): ReLU(inplace)\n",
              "      (conv2): Conv2d(128, 128, kernel_size=(3, 3), stride=(1, 1), padding=(1, 1), bias=False)\n",
              "      (bn2): BatchNorm2d(128, eps=1e-05, momentum=0.1, affine=True, track_running_stats=True)\n",
              "      (downsample): Sequential(\n",
              "        (0): Conv2d(64, 128, kernel_size=(1, 1), stride=(2, 2), bias=False)\n",
              "        (1): BatchNorm2d(128, eps=1e-05, momentum=0.1, affine=True, track_running_stats=True)\n",
              "      )\n",
              "    )\n",
              "    (1): BasicBlock(\n",
              "      (conv1): Conv2d(128, 128, kernel_size=(3, 3), stride=(1, 1), padding=(1, 1), bias=False)\n",
              "      (bn1): BatchNorm2d(128, eps=1e-05, momentum=0.1, affine=True, track_running_stats=True)\n",
              "      (relu): ReLU(inplace)\n",
              "      (conv2): Conv2d(128, 128, kernel_size=(3, 3), stride=(1, 1), padding=(1, 1), bias=False)\n",
              "      (bn2): BatchNorm2d(128, eps=1e-05, momentum=0.1, affine=True, track_running_stats=True)\n",
              "    )\n",
              "  )\n",
              "  (layer3): Sequential(\n",
              "    (0): BasicBlock(\n",
              "      (conv1): Conv2d(128, 256, kernel_size=(3, 3), stride=(2, 2), padding=(1, 1), bias=False)\n",
              "      (bn1): BatchNorm2d(256, eps=1e-05, momentum=0.1, affine=True, track_running_stats=True)\n",
              "      (relu): ReLU(inplace)\n",
              "      (conv2): Conv2d(256, 256, kernel_size=(3, 3), stride=(1, 1), padding=(1, 1), bias=False)\n",
              "      (bn2): BatchNorm2d(256, eps=1e-05, momentum=0.1, affine=True, track_running_stats=True)\n",
              "      (downsample): Sequential(\n",
              "        (0): Conv2d(128, 256, kernel_size=(1, 1), stride=(2, 2), bias=False)\n",
              "        (1): BatchNorm2d(256, eps=1e-05, momentum=0.1, affine=True, track_running_stats=True)\n",
              "      )\n",
              "    )\n",
              "    (1): BasicBlock(\n",
              "      (conv1): Conv2d(256, 256, kernel_size=(3, 3), stride=(1, 1), padding=(1, 1), bias=False)\n",
              "      (bn1): BatchNorm2d(256, eps=1e-05, momentum=0.1, affine=True, track_running_stats=True)\n",
              "      (relu): ReLU(inplace)\n",
              "      (conv2): Conv2d(256, 256, kernel_size=(3, 3), stride=(1, 1), padding=(1, 1), bias=False)\n",
              "      (bn2): BatchNorm2d(256, eps=1e-05, momentum=0.1, affine=True, track_running_stats=True)\n",
              "    )\n",
              "  )\n",
              "  (layer4): Sequential(\n",
              "    (0): BasicBlock(\n",
              "      (conv1): Conv2d(256, 512, kernel_size=(3, 3), stride=(2, 2), padding=(1, 1), bias=False)\n",
              "      (bn1): BatchNorm2d(512, eps=1e-05, momentum=0.1, affine=True, track_running_stats=True)\n",
              "      (relu): ReLU(inplace)\n",
              "      (conv2): Conv2d(512, 512, kernel_size=(3, 3), stride=(1, 1), padding=(1, 1), bias=False)\n",
              "      (bn2): BatchNorm2d(512, eps=1e-05, momentum=0.1, affine=True, track_running_stats=True)\n",
              "      (downsample): Sequential(\n",
              "        (0): Conv2d(256, 512, kernel_size=(1, 1), stride=(2, 2), bias=False)\n",
              "        (1): BatchNorm2d(512, eps=1e-05, momentum=0.1, affine=True, track_running_stats=True)\n",
              "      )\n",
              "    )\n",
              "    (1): BasicBlock(\n",
              "      (conv1): Conv2d(512, 512, kernel_size=(3, 3), stride=(1, 1), padding=(1, 1), bias=False)\n",
              "      (bn1): BatchNorm2d(512, eps=1e-05, momentum=0.1, affine=True, track_running_stats=True)\n",
              "      (relu): ReLU(inplace)\n",
              "      (conv2): Conv2d(512, 512, kernel_size=(3, 3), stride=(1, 1), padding=(1, 1), bias=False)\n",
              "      (bn2): BatchNorm2d(512, eps=1e-05, momentum=0.1, affine=True, track_running_stats=True)\n",
              "    )\n",
              "  )\n",
              "  (avgpool): AdaptiveAvgPool2d(output_size=(1, 1))\n",
              "  (fc): Linear(in_features=512, out_features=512, bias=True)\n",
              ")"
            ]
          },
          "metadata": {
            "tags": []
          },
          "execution_count": 35
        }
      ]
    },
    {
      "cell_type": "code",
      "metadata": {
        "id": "gCjPmrpd3EqK",
        "colab_type": "code",
        "colab": {}
      },
      "source": [
        "class super_resnet(nn.Module):\n",
        "  def __init__(self, model):\n",
        "    super(super_resnet, self).__init__()\n",
        "    self.net= model\n",
        "    self.linear_vowel= nn.Linear(in_features= 512,out_features= 10, bias=True)\n",
        "    self.linear_cons= nn.Linear(in_features= 512,out_features= 10, bias=True)\n",
        "\n",
        "  def forward(self, x):\n",
        "    # print(x.shape)\n",
        "    x=self.net(x)\n",
        "    # print(x.shape)\n",
        "    x_vowel = self.linear_vowel(x)\n",
        "    x_cons = self.linear_cons(x)\n",
        "    return x_vowel, x_cons"
      ],
      "execution_count": 0,
      "outputs": []
    },
    {
      "cell_type": "markdown",
      "metadata": {
        "id": "MV5QvngBfmo6",
        "colab_type": "text"
      },
      "source": [
        "# Creating the Evaluation function"
      ]
    },
    {
      "cell_type": "code",
      "metadata": {
        "id": "n9kT7zdjfrQw",
        "colab_type": "code",
        "colab": {}
      },
      "source": [
        "def evaluation(dataloader, model):\n",
        "    total, correct_v, correct_c= 0, 0, 0\n",
        "    for data in dataloader:\n",
        "        inputs, lab_v, lab_c= data\n",
        "        inputs, lab_v, lab_c= inputs.to(device), lab_v.to(device), lab_c.to(device)\n",
        "        outputs_v, outputs_c = model(inputs.double())\n",
        "        _, pred_v =torch.max(outputs_v, 1)\n",
        "        _, pred_c =torch.max(outputs_c, 1)\n",
        "        total+= lab_v.size(0)\n",
        "        correct_v+= (pred_v==lab_v).sum().item()\n",
        "        correct_c+= (pred_c==lab_c).sum().item()\n",
        "    return pred_v, pred_c, 100* correct_v/total, 100* correct_c/total\n"
      ],
      "execution_count": 0,
      "outputs": []
    },
    {
      "cell_type": "markdown",
      "metadata": {
        "id": "_DBZyEMsfwRW",
        "colab_type": "text"
      },
      "source": [
        "## Creating the Network Object"
      ]
    },
    {
      "cell_type": "code",
      "metadata": {
        "id": "r4LKBssVfvUF",
        "colab_type": "code",
        "colab": {}
      },
      "source": [
        "model = super_resnet(model).double().to(device)\n",
        "# for param in model.parameters():\n",
        "#     nn.init.xavier_uniform_(param.unsqueeze(dim=1))\n",
        "#     param.squeeze()\n",
        "loss_fn=nn.CrossEntropyLoss()\n"
      ],
      "execution_count": 0,
      "outputs": []
    },
    {
      "cell_type": "code",
      "metadata": {
        "id": "PA_xVfOU_Rfm",
        "colab_type": "code",
        "colab": {}
      },
      "source": [
        "opt=optim.Adam(model.parameters(), lr=0.003 )"
      ],
      "execution_count": 0,
      "outputs": []
    },
    {
      "cell_type": "markdown",
      "metadata": {
        "id": "ryJY_QHrhEf9",
        "colab_type": "text"
      },
      "source": [
        "## Loading into dataloaders"
      ]
    },
    {
      "cell_type": "code",
      "metadata": {
        "id": "p5VCE5cWvSpM",
        "colab_type": "code",
        "colab": {}
      },
      "source": [
        "import copy"
      ],
      "execution_count": 0,
      "outputs": []
    },
    {
      "cell_type": "code",
      "metadata": {
        "id": "FauhyJBugBAs",
        "colab_type": "code",
        "colab": {}
      },
      "source": [
        "batch= 256\n",
        "trainloader = DataLoader(trainset, batch_size=batch, shuffle=False, num_workers=1)\n",
        "# evalloader= DataLoader(evalset, batch_size=batch_size, shuffle=False)\n",
        "# testloader= DataLoader(testset, batch_size=X_test.shape[0],shuffle=False)"
      ],
      "execution_count": 0,
      "outputs": []
    },
    {
      "cell_type": "markdown",
      "metadata": {
        "id": "tSr5yogkhSfo",
        "colab_type": "text"
      },
      "source": [
        "# Training the Network"
      ]
    },
    {
      "cell_type": "code",
      "metadata": {
        "id": "Wm7Wd_5-5Fll",
        "colab_type": "code",
        "outputId": "6eda6ccf-0a67-4e07-95b2-01892b419d7b",
        "colab": {
          "base_uri": "https://localhost:8080/",
          "height": 320
        }
      },
      "source": [
        "# using two faced fc\n",
        "tic=time()\n",
        "model.train()\n",
        "loss_per_epoch=[]\n",
        "loss_arr=[]\n",
        "max_epochs=2\n",
        "min_loss=1000\n",
        "n_iters=np.ceil(10000/batch)\n",
        "for epoch in range(max_epochs):\n",
        "    for i,data in enumerate(trainloader,0):\n",
        "        inputs, lab_v, lab_c = data\n",
        "        inputs, lab_v, lab_c = inputs.to(device), lab_v.to(device), lab_c.to(device)\n",
        "        opt.zero_grad()\n",
        "        # print(inputs.shape)\n",
        "        outputs_v, outputs_c = model(inputs.double())\n",
        "        loss=loss_fn(outputs_v, lab_v) + loss_fn(outputs_c, lab_c)\n",
        "        loss.backward()\n",
        "        opt.step()\n",
        "        loss_arr.append(loss.item())\n",
        "        if min_loss>loss.item():\n",
        "            min_loss=loss.item()\n",
        "            best_model=copy.deepcopy(model.state_dict())\n",
        "        # if i % 8==0:\n",
        "        #     print(\"Epoch: %d Iteration: %d/%d Loss: %0.3f\" %(epoch, i, n_iters, loss.item()))\n",
        "        del inputs, lab_v, lab_c, outputs_v, outputs_c\n",
        "        torch.cuda.empty_cache()\n",
        "    loss_per_epoch.append(loss.item())\n",
        "toc=time()\n",
        "print(\"Training time:\", toc-tic)\n",
        "plt.plot(loss_per_epoch, 'r')\n",
        "plt.show()\n",
        "model.eval()\n",
        "# torch.save(best_model,\"../input/checkpoint/best_model.pth\")\n",
        "model.load_state_dict(best_model)\n",
        "with torch.no_grad():\n",
        "  _, _, acc_v, acc_c= evaluation(trainloader, model)\n",
        "print(\"Loss:\")\n",
        "print(\"Training vowel Accuracy: %0.2f consonant accuracy: %0.2f\" %( acc_v , acc_c ))\n",
        "# print(\"Test Accuracy: %0.2f\" %(evaluation(evalloader,model)))"
      ],
      "execution_count": 49,
      "outputs": [
        {
          "output_type": "stream",
          "text": [
            "Training time: 17.06681776046753\n"
          ],
          "name": "stdout"
        },
        {
          "output_type": "display_data",
          "data": {
            "image/png": "[encoded data removed]",
            "text/plain": [
              "<Figure size 432x288 with 1 Axes>"
            ]
          },
          "metadata": {
            "tags": []
          }
        },
        {
          "output_type": "stream",
          "text": [
            "Loss:\n",
            "Training vowel Accuracy: 37.02 consonant accuracy: 29.04\n"
          ],
          "name": "stdout"
        }
      ]
    },
    {
      "cell_type": "code",
      "metadata": {
        "id": "ZaZ61DIHouMN",
        "colab_type": "code",
        "outputId": "c9005271-448c-41bb-a72e-6c04ff4150a5",
        "colab": {
          "base_uri": "https://localhost:8080/",
          "height": 187
        }
      },
      "source": [
        "from sklearn.metrics import confusion_matrix\n",
        "# batch= 512\n",
        "trainloader = DataLoader(trainset, batch_size=1000, shuffle=False, num_workers=0)\n",
        "model.eval()\n",
        "with torch.no_grad():\n",
        "  pred, _ = evaluation(trainloader, model)\n",
        "cm= confusion_matrix(pred.cpu(), y_vowel[-1000:])\n",
        "print(cm)"
      ],
      "execution_count": 0,
      "outputs": [
        {
          "output_type": "stream",
          "text": [
            "[[25  8 12 10  9  6 10  6  5  7]\n",
            " [ 6  2 14 14  6  6  5  7  5  8]\n",
            " [16 15 21  8  7 16  5  1  2  9]\n",
            " [16 16 16  8 28 26 15 23 29 25]\n",
            " [13 19 12 14 24 14 14 28 20 14]\n",
            " [ 6  4  6 10  5  8  8  4  7  3]\n",
            " [11 18  7 15 18 19 18 24 27 14]\n",
            " [ 6  2  9  9  3  3  3  6  1  2]\n",
            " [ 1  7  9  3  4  3  3  2  2  4]\n",
            " [ 6  6  1  8  1  4  6  4  0  5]]\n"
          ],
          "name": "stdout"
        }
      ]
    },
    {
      "cell_type": "code",
      "metadata": {
        "id": "MoOAgnnrKBZi",
        "colab_type": "code",
        "outputId": "58127765-7a85-4f2f-d7d3-cd549dd07c41",
        "colab": {
          "base_uri": "https://localhost:8080/",
          "height": 34
        }
      },
      "source": [
        "min(loss_per_epoch)"
      ],
      "execution_count": 0,
      "outputs": [
        {
          "output_type": "execute_result",
          "data": {
            "text/plain": [
              "0.43014351311843424"
            ]
          },
          "metadata": {
            "tags": []
          },
          "execution_count": 46
        }
      ]
    },
    {
      "cell_type": "code",
      "metadata": {
        "id": "_46-eaf7K-4G",
        "colab_type": "code",
        "outputId": "f8f8aaca-03a6-4048-8b73-e6cd004b5bc9",
        "colab": {
          "base_uri": "https://localhost:8080/",
          "height": 395
        }
      },
      "source": [
        "plt.figure(figsize= (14,6))\n",
        "plt.plot(loss_arr)"
      ],
      "execution_count": 0,
      "outputs": [
        {
          "output_type": "execute_result",
          "data": {
            "text/plain": [
              "[<matplotlib.lines.Line2D at 0x7fb81c0bb0f0>]"
            ]
          },
          "metadata": {
            "tags": []
          },
          "execution_count": 85
        },
        {
          "output_type": "display_data",
          "data": {
            "image/png": "[encoded data removed]",
            "text/plain": [
              "<Figure size 1008x432 with 1 Axes>"
            ]
          },
          "metadata": {
            "tags": []
          }
        }
      ]
    },
    {
      "cell_type": "code",
      "metadata": {
        "id": "4-SO99YGK-uB",
        "colab_type": "code",
        "colab": {}
      },
      "source": [
        ""
      ],
      "execution_count": 0,
      "outputs": []
    }
  ]
}