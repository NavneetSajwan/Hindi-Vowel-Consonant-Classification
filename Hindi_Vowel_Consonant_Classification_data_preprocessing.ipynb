{
  "nbformat": 4,
  "nbformat_minor": 0,
  "metadata": {
    "colab": {
      "name": "Hindi Vowel/Consonant Classification data preprocessing.ipynb",
      "provenance": [],
      "collapsed_sections": [],
      "include_colab_link": true
    },
    "kernelspec": {
      "name": "python3",
      "display_name": "Python 3"
    },
    "accelerator": "GPU"
  },
  "cells": [
    {
      "cell_type": "markdown",
      "metadata": {
        "id": "view-in-github",
        "colab_type": "text"
      },
      "source": [
        "<a href=\"https://colab.research.google.com/github/NavneetSajwan/Hindi-Vowel-Consonant-Classification/blob/master/Hindi_Vowel_Consonant_Classification_data_preprocessing.ipynb\" target=\"_parent\"><img src=\"https://colab.research.google.com/assets/colab-badge.svg\" alt=\"Open In Colab\"/></a>"
      ]
    },
    {
      "cell_type": "code",
      "metadata": {
        "id": "C5Ga95AcppTh",
        "colab_type": "code",
        "colab": {}
      },
      "source": [
        "import os\n",
        "import matplotlib.pyplot as plt\n",
        "import seaborn as sns\n",
        "from PIL import Image\n",
        "import numpy as np\n",
        "from time import time"
      ],
      "execution_count": 0,
      "outputs": []
    },
    {
      "cell_type": "code",
      "metadata": {
        "id": "NiyvnSRVH0Zv",
        "colab_type": "code",
        "colab": {}
      },
      "source": [
        "import torch\n",
        "import torch.nn as nn\n",
        "import torch.optim as optim\n",
        "from torch.utils.data import Dataset, DataLoader\n",
        "import torchvision\n",
        "import torchvision.transforms as transforms\n",
        "import torch.nn.functional as F"
      ],
      "execution_count": 0,
      "outputs": []
    },
    {
      "cell_type": "code",
      "metadata": {
        "id": "MiKi7JAPwkMS",
        "colab_type": "code",
        "colab": {}
      },
      "source": [
        "from torchvision import models"
      ],
      "execution_count": 0,
      "outputs": []
    },
    {
      "cell_type": "markdown",
      "metadata": {
        "id": "c_J0RT5I3ww3",
        "colab_type": "text"
      },
      "source": [
        "# Data Fetching"
      ]
    },
    {
      "cell_type": "code",
      "metadata": {
        "id": "wb7blxWWyVND",
        "colab_type": "code",
        "outputId": "6b900b5a-42e1-401e-add9-fa5c11f8c785",
        "colab": {
          "base_uri": "https://localhost:8080/",
          "height": 122
        }
      },
      "source": [
        "from google.colab import drive\n",
        "drive.mount('/content/drive')"
      ],
      "execution_count": 3,
      "outputs": [
        {
          "output_type": "stream",
          "text": [
            "Go to this URL in a browser: https://accounts.google.com/o/oauth2/auth?client_id=947318989803-6bn6qk8qdgf4n4g3pfee6491hc0brc4i.apps.googleusercontent.com&redirect_uri=urn%3Aietf%3Awg%3Aoauth%3A2.0%3Aoob&scope=email%20https%3A%2F%2Fwww.googleapis.com%2Fauth%2Fdocs.test%20https%3A%2F%2Fwww.googleapis.com%2Fauth%2Fdrive%20https%3A%2F%2Fwww.googleapis.com%2Fauth%2Fdrive.photos.readonly%20https%3A%2F%2Fwww.googleapis.com%2Fauth%2Fpeopleapi.readonly&response_type=code\n",
            "\n",
            "Enter your authorization code:\n",
            "··········\n",
            "Mounted at /content/drive\n"
          ],
          "name": "stdout"
        }
      ]
    },
    {
      "cell_type": "code",
      "metadata": {
        "id": "RraSrnBDqpdz",
        "colab_type": "code",
        "colab": {}
      },
      "source": [
        "os.environ['KAGGLE_USERNAME'] = \"navneetsajwan\" \n",
        "os.environ['KAGGLE_KEY'] = \"fc19a2773ae7ed2042f95e40250fa407\" "
      ],
      "execution_count": 0,
      "outputs": []
    },
    {
      "cell_type": "code",
      "metadata": {
        "id": "wRqzjsRbq8Ob",
        "colab_type": "code",
        "outputId": "40046e91-174c-476b-b01a-fdcd323d1220",
        "colab": {
          "base_uri": "https://localhost:8080/",
          "height": 187
        }
      },
      "source": [
        "!kaggle competitions download -c padhai-hindi-vowel-consonant-classification"
      ],
      "execution_count": 5,
      "outputs": [
        {
          "output_type": "stream",
          "text": [
            "Warning: Looks like you're using an outdated API Version, please consider updating (server 1.5.6 / client 1.5.4)\n",
            "Downloading sample_submission.csv to /content\n",
            "\r  0% 0.00/145k [00:00<?, ?B/s]\n",
            "100% 145k/145k [00:00<00:00, 44.4MB/s]\n",
            "Downloading test.zip to /content\n",
            " 80% 73.0M/91.3M [00:01<00:00, 37.8MB/s]\n",
            "100% 91.3M/91.3M [00:01<00:00, 67.5MB/s]\n",
            "Downloading train.zip to /content\n",
            " 93% 85.0M/91.3M [00:01<00:00, 35.9MB/s]\n",
            "100% 91.3M/91.3M [00:02<00:00, 46.0MB/s]\n"
          ],
          "name": "stdout"
        }
      ]
    },
    {
      "cell_type": "code",
      "metadata": {
        "id": "4W4oseBisWXS",
        "colab_type": "code",
        "outputId": "004086ba-c2b8-4081-f664-97932f799fec",
        "colab": {
          "base_uri": "https://localhost:8080/",
          "height": 34
        }
      },
      "source": [
        "os.getcwd()"
      ],
      "execution_count": 6,
      "outputs": [
        {
          "output_type": "execute_result",
          "data": {
            "text/plain": [
              "'/content'"
            ]
          },
          "metadata": {
            "tags": []
          },
          "execution_count": 6
        }
      ]
    },
    {
      "cell_type": "code",
      "metadata": {
        "id": "8b0SJpJDvAOs",
        "colab_type": "code",
        "colab": {}
      },
      "source": [
        "# !unzip -q test.zip"
      ],
      "execution_count": 0,
      "outputs": []
    },
    {
      "cell_type": "code",
      "metadata": {
        "id": "2uRzXmmDvPVv",
        "colab_type": "code",
        "colab": {}
      },
      "source": [
        "!unzip -q train.zip"
      ],
      "execution_count": 0,
      "outputs": []
    },
    {
      "cell_type": "code",
      "metadata": {
        "id": "gGfYZbXPvlkM",
        "colab_type": "code",
        "colab": {}
      },
      "source": [
        "files=os.listdir('train/')"
      ],
      "execution_count": 0,
      "outputs": []
    },
    {
      "cell_type": "code",
      "metadata": {
        "id": "h5_4nJXg2rFp",
        "colab_type": "code",
        "outputId": "226ea184-b933-4d4c-e0f0-7dc7971a2eee",
        "colab": {
          "base_uri": "https://localhost:8080/",
          "height": 34
        }
      },
      "source": [
        "len(files)"
      ],
      "execution_count": 7,
      "outputs": [
        {
          "output_type": "execute_result",
          "data": {
            "text/plain": [
              "10000"
            ]
          },
          "metadata": {
            "tags": []
          },
          "execution_count": 7
        }
      ]
    },
    {
      "cell_type": "code",
      "metadata": {
        "id": "wa0A9wNP2t-E",
        "colab_type": "code",
        "outputId": "137f847f-e2b1-4209-8b65-06154bd1478c",
        "colab": {
          "base_uri": "https://localhost:8080/",
          "height": 34
        }
      },
      "source": [
        "files[0]"
      ],
      "execution_count": 8,
      "outputs": [
        {
          "output_type": "execute_result",
          "data": {
            "text/plain": [
              "'V1_C9_82.png'"
            ]
          },
          "metadata": {
            "tags": []
          },
          "execution_count": 8
        }
      ]
    },
    {
      "cell_type": "code",
      "metadata": {
        "id": "l3XknI9lou6j",
        "colab_type": "code",
        "outputId": "8d602751-6698-40d0-9ef4-dfccda967a77",
        "colab": {
          "base_uri": "https://localhost:8080/",
          "height": 34
        }
      },
      "source": [
        "vowel=int(files[0][1])\n",
        "type(vowel)\n",
        "# print(vowel)\n"
      ],
      "execution_count": 9,
      "outputs": [
        {
          "output_type": "execute_result",
          "data": {
            "text/plain": [
              "int"
            ]
          },
          "metadata": {
            "tags": []
          },
          "execution_count": 9
        }
      ]
    },
    {
      "cell_type": "code",
      "metadata": {
        "id": "zFQgLTsOn8Ph",
        "colab_type": "code",
        "colab": {}
      },
      "source": [
        "y_vowel=[]\n",
        "y_consonant=[]\n",
        "for file in files:\n",
        "  vowel_idx=int(file[1])\n",
        "  cons_idx=int(file[4])\n",
        "  y_vowel.append(vowel_idx)\n",
        "  y_consonant.append(cons_idx)"
      ],
      "execution_count": 0,
      "outputs": []
    },
    {
      "cell_type": "code",
      "metadata": {
        "id": "Cvt9H0KGucl_",
        "colab_type": "code",
        "outputId": "dea95240-c1d6-42a6-ee43-3b4dc80f5752",
        "colab": {
          "base_uri": "https://localhost:8080/",
          "height": 51
        }
      },
      "source": [
        "print(min(y_vowel),max(y_vowel))\n",
        "print(min(y_consonant),max(y_consonant))\n"
      ],
      "execution_count": 11,
      "outputs": [
        {
          "output_type": "stream",
          "text": [
            "0 9\n",
            "0 9\n"
          ],
          "name": "stdout"
        }
      ]
    },
    {
      "cell_type": "code",
      "metadata": {
        "id": "FIgg-ma_ooIb",
        "colab_type": "code",
        "outputId": "56d2011b-6916-4b3f-f134-66217f2dd13a",
        "colab": {
          "base_uri": "https://localhost:8080/",
          "height": 395
        }
      },
      "source": [
        "plt.figure(figsize=(14,6))\n",
        "sns.distplot(y_vowel)"
      ],
      "execution_count": 12,
      "outputs": [
        {
          "output_type": "execute_result",
          "data": {
            "text/plain": [
              "<matplotlib.axes._subplots.AxesSubplot at 0x7fb8352a5c18>"
            ]
          },
          "metadata": {
            "tags": []
          },
          "execution_count": 12
        },
        {
          "output_type": "display_data",
          "data": {
            "image/png": "[encoded data removed]",
            "text/plain": [
              "<Figure size 1008x432 with 1 Axes>"
            ]
          },
          "metadata": {
            "tags": []
          }
        }
      ]
    },
    {
      "cell_type": "code",
      "metadata": {
        "id": "iNDxonqWsq7e",
        "colab_type": "code",
        "colab": {}
      },
      "source": [
        "import pandas as pd\n",
        "df= pd.read_csv(\"/content/drive/My Drive/vowel-consonant-mapping - Hindi.csv\")"
      ],
      "execution_count": 0,
      "outputs": []
    },
    {
      "cell_type": "code",
      "metadata": {
        "id": "yyepnmMA1zsh",
        "colab_type": "code",
        "outputId": "04e222ac-b576-4129-c8b0-ab59325c944d",
        "colab": {
          "base_uri": "https://localhost:8080/",
          "height": 421
        }
      },
      "source": [
        "df.head(12)"
      ],
      "execution_count": 14,
      "outputs": [
        {
          "output_type": "execute_result",
          "data": {
            "text/html": [
              "<div>\n",
              "<style scoped>\n",
              "    .dataframe tbody tr th:only-of-type {\n",
              "        vertical-align: middle;\n",
              "    }\n",
              "\n",
              "    .dataframe tbody tr th {\n",
              "        vertical-align: top;\n",
              "    }\n",
              "\n",
              "    .dataframe thead th {\n",
              "        text-align: right;\n",
              "    }\n",
              "</style>\n",
              "<table border=\"1\" class=\"dataframe\">\n",
              "  <thead>\n",
              "    <tr style=\"text-align: right;\">\n",
              "      <th></th>\n",
              "      <th>Unnamed: 0</th>\n",
              "      <th>Unnamed: 1</th>\n",
              "      <th>V0</th>\n",
              "      <th>V1</th>\n",
              "      <th>V2</th>\n",
              "      <th>V3</th>\n",
              "      <th>V4</th>\n",
              "      <th>V5</th>\n",
              "      <th>V6</th>\n",
              "      <th>V7</th>\n",
              "      <th>V8</th>\n",
              "      <th>V9</th>\n",
              "      <th>V10</th>\n",
              "      <th>V11</th>\n",
              "    </tr>\n",
              "  </thead>\n",
              "  <tbody>\n",
              "    <tr>\n",
              "      <th>0</th>\n",
              "      <td>NaN</td>\n",
              "      <td>NaN</td>\n",
              "      <td>0</td>\n",
              "      <td>आ</td>\n",
              "      <td>इ</td>\n",
              "      <td>ई</td>\n",
              "      <td>उ</td>\n",
              "      <td>ऊ</td>\n",
              "      <td>ऋ</td>\n",
              "      <td>ए</td>\n",
              "      <td>ऐ</td>\n",
              "      <td>ऑ</td>\n",
              "      <td>ओ</td>\n",
              "      <td>औ</td>\n",
              "    </tr>\n",
              "    <tr>\n",
              "      <th>1</th>\n",
              "      <td>C0</td>\n",
              "      <td>0</td>\n",
              "      <td>अ</td>\n",
              "      <td>आ</td>\n",
              "      <td>इ</td>\n",
              "      <td>ई</td>\n",
              "      <td>उ</td>\n",
              "      <td>ऊ</td>\n",
              "      <td>ऋ</td>\n",
              "      <td>ए</td>\n",
              "      <td>ऐ</td>\n",
              "      <td>ऑ</td>\n",
              "      <td>ओ</td>\n",
              "      <td>औ</td>\n",
              "    </tr>\n",
              "    <tr>\n",
              "      <th>2</th>\n",
              "      <td>C1</td>\n",
              "      <td>क</td>\n",
              "      <td>क</td>\n",
              "      <td>का</td>\n",
              "      <td>कि</td>\n",
              "      <td>की</td>\n",
              "      <td>कु</td>\n",
              "      <td>कू</td>\n",
              "      <td>कृ</td>\n",
              "      <td>के</td>\n",
              "      <td>कै</td>\n",
              "      <td>कॉ</td>\n",
              "      <td>को</td>\n",
              "      <td>कौ</td>\n",
              "    </tr>\n",
              "    <tr>\n",
              "      <th>3</th>\n",
              "      <td>C2</td>\n",
              "      <td>ख</td>\n",
              "      <td>ख</td>\n",
              "      <td>खा</td>\n",
              "      <td>खि</td>\n",
              "      <td>खी</td>\n",
              "      <td>खु</td>\n",
              "      <td>खू</td>\n",
              "      <td>खृ</td>\n",
              "      <td>खे</td>\n",
              "      <td>खै</td>\n",
              "      <td>खॉ</td>\n",
              "      <td>खो</td>\n",
              "      <td>खौ</td>\n",
              "    </tr>\n",
              "    <tr>\n",
              "      <th>4</th>\n",
              "      <td>C3</td>\n",
              "      <td>ग</td>\n",
              "      <td>ग</td>\n",
              "      <td>गा</td>\n",
              "      <td>गि</td>\n",
              "      <td>गी</td>\n",
              "      <td>गु</td>\n",
              "      <td>गू</td>\n",
              "      <td>गृ</td>\n",
              "      <td>गे</td>\n",
              "      <td>गै</td>\n",
              "      <td>गॉ</td>\n",
              "      <td>गो</td>\n",
              "      <td>गौ</td>\n",
              "    </tr>\n",
              "    <tr>\n",
              "      <th>5</th>\n",
              "      <td>C4</td>\n",
              "      <td>घ</td>\n",
              "      <td>घ</td>\n",
              "      <td>घा</td>\n",
              "      <td>घि</td>\n",
              "      <td>घी</td>\n",
              "      <td>घु</td>\n",
              "      <td>घू</td>\n",
              "      <td>घृ</td>\n",
              "      <td>घे</td>\n",
              "      <td>घै</td>\n",
              "      <td>घॉ</td>\n",
              "      <td>घो</td>\n",
              "      <td>घौ</td>\n",
              "    </tr>\n",
              "    <tr>\n",
              "      <th>6</th>\n",
              "      <td>C5</td>\n",
              "      <td>ङ</td>\n",
              "      <td>ङ</td>\n",
              "      <td>ङा</td>\n",
              "      <td>ङि</td>\n",
              "      <td>ङी</td>\n",
              "      <td>ङु</td>\n",
              "      <td>ङू</td>\n",
              "      <td>ङृ</td>\n",
              "      <td>ङे</td>\n",
              "      <td>ङै</td>\n",
              "      <td>ङॉ</td>\n",
              "      <td>ङो</td>\n",
              "      <td>ङौ</td>\n",
              "    </tr>\n",
              "    <tr>\n",
              "      <th>7</th>\n",
              "      <td>C6</td>\n",
              "      <td>च</td>\n",
              "      <td>च</td>\n",
              "      <td>चा</td>\n",
              "      <td>चि</td>\n",
              "      <td>ची</td>\n",
              "      <td>चु</td>\n",
              "      <td>चू</td>\n",
              "      <td>चृ</td>\n",
              "      <td>चे</td>\n",
              "      <td>चै</td>\n",
              "      <td>चॉ</td>\n",
              "      <td>चो</td>\n",
              "      <td>चौ</td>\n",
              "    </tr>\n",
              "    <tr>\n",
              "      <th>8</th>\n",
              "      <td>C7</td>\n",
              "      <td>छ</td>\n",
              "      <td>छ</td>\n",
              "      <td>छा</td>\n",
              "      <td>छि</td>\n",
              "      <td>छी</td>\n",
              "      <td>छु</td>\n",
              "      <td>छू</td>\n",
              "      <td>छृ</td>\n",
              "      <td>छे</td>\n",
              "      <td>छै</td>\n",
              "      <td>छॉ</td>\n",
              "      <td>छो</td>\n",
              "      <td>छौ</td>\n",
              "    </tr>\n",
              "    <tr>\n",
              "      <th>9</th>\n",
              "      <td>C8</td>\n",
              "      <td>ज</td>\n",
              "      <td>ज</td>\n",
              "      <td>जा</td>\n",
              "      <td>जि</td>\n",
              "      <td>जी</td>\n",
              "      <td>जु</td>\n",
              "      <td>जू</td>\n",
              "      <td>जृ</td>\n",
              "      <td>जे</td>\n",
              "      <td>जै</td>\n",
              "      <td>जॉ</td>\n",
              "      <td>जो</td>\n",
              "      <td>जौ</td>\n",
              "    </tr>\n",
              "    <tr>\n",
              "      <th>10</th>\n",
              "      <td>C9</td>\n",
              "      <td>झ</td>\n",
              "      <td>झ</td>\n",
              "      <td>झा</td>\n",
              "      <td>झि</td>\n",
              "      <td>झी</td>\n",
              "      <td>झु</td>\n",
              "      <td>झू</td>\n",
              "      <td>झृ</td>\n",
              "      <td>झे</td>\n",
              "      <td>झै</td>\n",
              "      <td>झॉ</td>\n",
              "      <td>झो</td>\n",
              "      <td>झौ</td>\n",
              "    </tr>\n",
              "    <tr>\n",
              "      <th>11</th>\n",
              "      <td>C10</td>\n",
              "      <td>ञ</td>\n",
              "      <td>ञ</td>\n",
              "      <td>ञा</td>\n",
              "      <td>ञि</td>\n",
              "      <td>ञी</td>\n",
              "      <td>ञु</td>\n",
              "      <td>ञू</td>\n",
              "      <td>ञृ</td>\n",
              "      <td>ञे</td>\n",
              "      <td>ञै</td>\n",
              "      <td>ञॉ</td>\n",
              "      <td>ञो</td>\n",
              "      <td>ञौ</td>\n",
              "    </tr>\n",
              "  </tbody>\n",
              "</table>\n",
              "</div>"
            ],
            "text/plain": [
              "   Unnamed: 0 Unnamed: 1 V0  V1  V2  V3  V4  V5  V6  V7  V8  V9 V10 V11\n",
              "0         NaN        NaN  0   आ   इ   ई   उ   ऊ   ऋ   ए   ऐ   ऑ   ओ   औ\n",
              "1          C0          0  अ   आ   इ   ई   उ   ऊ   ऋ   ए   ऐ   ऑ   ओ   औ\n",
              "2          C1          क  क  का  कि  की  कु  कू  कृ  के  कै  कॉ  को  कौ\n",
              "3          C2          ख  ख  खा  खि  खी  खु  खू  खृ  खे  खै  खॉ  खो  खौ\n",
              "4          C3          ग  ग  गा  गि  गी  गु  गू  गृ  गे  गै  गॉ  गो  गौ\n",
              "5          C4          घ  घ  घा  घि  घी  घु  घू  घृ  घे  घै  घॉ  घो  घौ\n",
              "6          C5          ङ  ङ  ङा  ङि  ङी  ङु  ङू  ङृ  ङे  ङै  ङॉ  ङो  ङौ\n",
              "7          C6          च  च  चा  चि  ची  चु  चू  चृ  चे  चै  चॉ  चो  चौ\n",
              "8          C7          छ  छ  छा  छि  छी  छु  छू  छृ  छे  छै  छॉ  छो  छौ\n",
              "9          C8          ज  ज  जा  जि  जी  जु  जू  जृ  जे  जै  जॉ  जो  जौ\n",
              "10         C9          झ  झ  झा  झि  झी  झु  झू  झृ  झे  झै  झॉ  झो  झौ\n",
              "11        C10          ञ  ञ  ञा  ञि  ञी  ञु  ञू  ञृ  ञे  ञै  ञॉ  ञो  ञौ"
            ]
          },
          "metadata": {
            "tags": []
          },
          "execution_count": 14
        }
      ]
    },
    {
      "cell_type": "code",
      "metadata": {
        "id": "oiPV5wo617sG",
        "colab_type": "code",
        "colab": {}
      },
      "source": [
        "vowels=list(df.iloc[1,2:12])\n",
        "consonants= list(df.iloc[1:11,1])"
      ],
      "execution_count": 0,
      "outputs": []
    },
    {
      "cell_type": "code",
      "metadata": {
        "id": "0WGIhXJpNc6V",
        "colab_type": "code",
        "outputId": "1bc07380-5bc0-458e-839f-a8cc63d061c0",
        "colab": {
          "base_uri": "https://localhost:8080/",
          "height": 34
        }
      },
      "source": [
        "len(consonants)"
      ],
      "execution_count": 16,
      "outputs": [
        {
          "output_type": "execute_result",
          "data": {
            "text/plain": [
              "10"
            ]
          },
          "metadata": {
            "tags": []
          },
          "execution_count": 16
        }
      ]
    },
    {
      "cell_type": "markdown",
      "metadata": {
        "id": "d_V3XKtb3Lpp",
        "colab_type": "text"
      },
      "source": [
        "## Converting image into arrays\n",
        "\n"
      ]
    },
    {
      "cell_type": "code",
      "metadata": {
        "id": "r4AU7zJPmw_G",
        "colab_type": "code",
        "colab": {}
      },
      "source": [
        "transformer = transforms.Compose([\n",
        "                                  # transforms.Grayscale(1),\n",
        "                                  transforms.ToTensor(),\n",
        "                                  transforms.Normalize((0.5,),(0.5,))\n",
        "                                ])"
      ],
      "execution_count": 0,
      "outputs": []
    },
    {
      "cell_type": "code",
      "metadata": {
        "id": "gDeKPOK7mutb",
        "colab_type": "code",
        "colab": {}
      },
      "source": [
        "# image, vow, cons=trainset.__getitem__(3)\n",
        "# print(image)"
      ],
      "execution_count": 0,
      "outputs": []
    },
    {
      "cell_type": "code",
      "metadata": {
        "id": "CublwP9Z3LDz",
        "colab_type": "code",
        "colab": {}
      },
      "source": [
        "class DatasetHindi(Dataset):\n",
        "  def __init__(self, folderpath, images_list, l_vowel=None, l_cons=None, transform=None ):\n",
        "    self.folder_path=folderpath\n",
        "    self.images_list =  images_list\n",
        "    self.l_vowel = l_vowel\n",
        "    self.l_cons = l_cons\n",
        "    self.transform= transform\n",
        "\n",
        "  def __len__(self):\n",
        "    return len(self.images_list)\n",
        "\n",
        "  def __getitem__(self, index):\n",
        "    filepath= os.path.join(self.folder_path, self.images_list[index])\n",
        "    image = Image.open(filepath).convert('RGB')\n",
        "    # image= transforms.functional.adjust_brightness(image,2)\n",
        "    # image = transforms.functional.adjust_contrast(image, 2)\n",
        "    # image = transforms.functional.adjust_saturation(image,2)\n",
        "    \n",
        "    # torchvision.transforms.functional.to_tensor(image)\n",
        "    # image = np.array(image).astype(np.uint8)\n",
        "    # if image.shape[2]==4:\n",
        "    #   image = image[:,:,:-1]\n",
        "    # Reshaping the image to torchvision tensors\n",
        "    # image = np.transpose(image, (2,0,1))\n",
        "    # print(image.shape)\n",
        "    if self.transform is not None:\n",
        "      # print(image.shape)\n",
        "      image = self.transform(image)\n",
        "      # print(image.shape)\n",
        "    if self.l_vowel is not None:\n",
        "      l_v = self.l_vowel[index]\n",
        "\n",
        "    if self.l_cons is not None:\n",
        "      l_c = self.l_cons[index]\n",
        "\n",
        "    return image, l_v, l_c"
      ],
      "execution_count": 0,
      "outputs": []
    },
    {
      "cell_type": "code",
      "metadata": {
        "id": "fbCf6R1D3IaY",
        "colab_type": "code",
        "outputId": "aee3e251-350b-43a7-fd20-69992cd19766",
        "colab": {
          "base_uri": "https://localhost:8080/",
          "height": 34
        }
      },
      "source": [
        "trainset = DatasetHindi('train/', files, y_vowel, y_consonant, transform=transformer)\n",
        "batch=16\n",
        "trainloader=DataLoader(trainset, batch_size= batch, shuffle= True)\n",
        "image, lab_vowel, lab_cons= iter(trainloader).next()\n",
        "image.shape\n",
        "# print(lab_vowel)\n",
        "# displaying the image post transforms\n"
      ],
      "execution_count": 20,
      "outputs": [
        {
          "output_type": "execute_result",
          "data": {
            "text/plain": [
              "torch.Size([16, 3, 64, 64])"
            ]
          },
          "metadata": {
            "tags": []
          },
          "execution_count": 20
        }
      ]
    },
    {
      "cell_type": "code",
      "metadata": {
        "id": "W800OxJ8prSl",
        "colab_type": "code",
        "outputId": "8200d63c-d3bb-4ca3-911b-83c7a8ac0acd",
        "colab": {
          "base_uri": "https://localhost:8080/",
          "height": 300
        }
      },
      "source": [
        "npimg=np.array(image)\n",
        "npimg= np.transpose(npimg, (0,2,3,1))\n",
        "sample = np.random.randint(batch)\n",
        "# sample=3\n",
        "#Transformed Image\n",
        "plt.figure()\n",
        "plt.imshow(npimg[sample,:,:,0])\n",
        "plt.xlabel(str(consonants[lab_cons[sample]])+\" \"+str(vowels[lab_vowel[sample]]))"
      ],
      "execution_count": 21,
      "outputs": [
        {
          "output_type": "execute_result",
          "data": {
            "text/plain": [
              "Text(0.5, 0, 'च इ')"
            ]
          },
          "metadata": {
            "tags": []
          },
          "execution_count": 21
        },
        {
          "output_type": "display_data",
          "data": {
            "image/png": "[encoded data removed]",
            "text/plain": [
              "<Figure size 432x288 with 1 Axes>"
            ]
          },
          "metadata": {
            "tags": []
          }
        }
      ]
    },
    {
      "cell_type": "markdown",
      "metadata": {
        "id": "ozyDiaIBfZ17",
        "colab_type": "text"
      },
      "source": [
        "# Creating the Network Class"
      ]
    },
    {
      "cell_type": "code",
      "metadata": {
        "id": "-q0oevszgV7x",
        "colab_type": "code",
        "outputId": "42898f8b-0c44-433f-aab0-8ea888a549fb",
        "colab": {
          "base_uri": "https://localhost:8080/",
          "height": 34
        }
      },
      "source": [
        "device=\"cuda\" if torch.cuda.is_available() else \"cpu\"\n",
        "type(device)"
      ],
      "execution_count": 22,
      "outputs": [
        {
          "output_type": "execute_result",
          "data": {
            "text/plain": [
              "str"
            ]
          },
          "metadata": {
            "tags": []
          },
          "execution_count": 22
        }
      ]
    },
    {
      "cell_type": "code",
      "metadata": {
        "id": "NbUySr2Yrkd6",
        "colab_type": "code",
        "colab": {}
      },
      "source": [
        "class LeNet(nn.Module):\n",
        "    def __init__(self):\n",
        "        super(LeNet, self).__init__()\n",
        "        self.cnn_model= nn.Sequential(\n",
        "            nn.Conv2d(1,6,5), #(28,28,1)------>(24,24,6)\n",
        "            nn.Tanh(),\n",
        "            # nn.Conv2d(6,6,5), #(24,24,6)------>(20,20,6)\n",
        "            # nn.ReLU(),\n",
        "            nn.AvgPool2d(2, stride=2), #(24,24,6)------>(12,12,6)\n",
        "            nn.Conv2d(6,16,5), # (12,12,6)-------->(8,8,16)\n",
        "            nn.Tanh(),\n",
        "            # nn.Conv2d(16,16,3), # (26,26,16)-------->(24,24,16)\n",
        "            # nn.ReLU(),\n",
        "            nn.AvgPool2d(2, stride=2), #(8,8,16)-------->(4,4,16)\n",
        "            # nn.Conv2d(16,16,3), # (12,12,16)-------->(10,10,16)\n",
        "            # nn.Tanh(),\n",
        "            # nn.Conv2d(16,16,3), # (10,10,16)-------->(8,8,16)\n",
        "            # nn.ReLU(),\n",
        "            # nn.MaxPool2d(2, stride=2) #(8,8,16)-------->(4,4,16)\n",
        "            )\n",
        "            \n",
        "        self.fc_model=nn.Sequential(\n",
        "            nn.Linear(2704,256),\n",
        "            # nn.Dropout(0.1),\n",
        "            nn.Tanh(),\n",
        "            nn.Linear(256,84),\n",
        "            nn.Tanh(),\n",
        "            nn.Linear(84,10),\n",
        "            # nn.Tanh(),\n",
        "            )\n",
        "            \n",
        "        \n",
        "    def forward(self,x):\n",
        "#         print(x.shape)\n",
        "        x = self.cnn_model(x)\n",
        "#         print(x.shape)\n",
        "        x = x.view(x.size(0),-1)\n",
        "#         print(x.shape)\n",
        "        x = self.fc_model(x)\n",
        "#         print(x.shape)\n",
        "        return x"
      ],
      "execution_count": 0,
      "outputs": []
    },
    {
      "cell_type": "code",
      "metadata": {
        "id": "lVZhKqpaxgLz",
        "colab_type": "code",
        "colab": {}
      },
      "source": [
        "model=models.resnet18(pretrained=True)"
      ],
      "execution_count": 0,
      "outputs": []
    },
    {
      "cell_type": "code",
      "metadata": {
        "id": "tM-HPPfWyBAu",
        "colab_type": "code",
        "colab": {
          "base_uri": "https://localhost:8080/",
          "height": 1000
        },
        "outputId": "c8a8668b-1b74-45fe-b119-6ecf8080c643"
      },
      "source": [
        "print(model)"
      ],
      "execution_count": 25,
      "outputs": [
        {
          "output_type": "stream",
          "text": [
            "ResNet(\n",
            "  (conv1): Conv2d(3, 64, kernel_size=(7, 7), stride=(2, 2), padding=(3, 3), bias=False)\n",
            "  (bn1): BatchNorm2d(64, eps=1e-05, momentum=0.1, affine=True, track_running_stats=True)\n",
            "  (relu): ReLU(inplace)\n",
            "  (maxpool): MaxPool2d(kernel_size=3, stride=2, padding=1, dilation=1, ceil_mode=False)\n",
            "  (layer1): Sequential(\n",
            "    (0): BasicBlock(\n",
            "      (conv1): Conv2d(64, 64, kernel_size=(3, 3), stride=(1, 1), padding=(1, 1), bias=False)\n",
            "      (bn1): BatchNorm2d(64, eps=1e-05, momentum=0.1, affine=True, track_running_stats=True)\n",
            "      (relu): ReLU(inplace)\n",
            "      (conv2): Conv2d(64, 64, kernel_size=(3, 3), stride=(1, 1), padding=(1, 1), bias=False)\n",
            "      (bn2): BatchNorm2d(64, eps=1e-05, momentum=0.1, affine=True, track_running_stats=True)\n",
            "    )\n",
            "    (1): BasicBlock(\n",
            "      (conv1): Conv2d(64, 64, kernel_size=(3, 3), stride=(1, 1), padding=(1, 1), bias=False)\n",
            "      (bn1): BatchNorm2d(64, eps=1e-05, momentum=0.1, affine=True, track_running_stats=True)\n",
            "      (relu): ReLU(inplace)\n",
            "      (conv2): Conv2d(64, 64, kernel_size=(3, 3), stride=(1, 1), padding=(1, 1), bias=False)\n",
            "      (bn2): BatchNorm2d(64, eps=1e-05, momentum=0.1, affine=True, track_running_stats=True)\n",
            "    )\n",
            "  )\n",
            "  (layer2): Sequential(\n",
            "    (0): BasicBlock(\n",
            "      (conv1): Conv2d(64, 128, kernel_size=(3, 3), stride=(2, 2), padding=(1, 1), bias=False)\n",
            "      (bn1): BatchNorm2d(128, eps=1e-05, momentum=0.1, affine=True, track_running_stats=True)\n",
            "      (relu): ReLU(inplace)\n",
            "      (conv2): Conv2d(128, 128, kernel_size=(3, 3), stride=(1, 1), padding=(1, 1), bias=False)\n",
            "      (bn2): BatchNorm2d(128, eps=1e-05, momentum=0.1, affine=True, track_running_stats=True)\n",
            "      (downsample): Sequential(\n",
            "        (0): Conv2d(64, 128, kernel_size=(1, 1), stride=(2, 2), bias=False)\n",
            "        (1): BatchNorm2d(128, eps=1e-05, momentum=0.1, affine=True, track_running_stats=True)\n",
            "      )\n",
            "    )\n",
            "    (1): BasicBlock(\n",
            "      (conv1): Conv2d(128, 128, kernel_size=(3, 3), stride=(1, 1), padding=(1, 1), bias=False)\n",
            "      (bn1): BatchNorm2d(128, eps=1e-05, momentum=0.1, affine=True, track_running_stats=True)\n",
            "      (relu): ReLU(inplace)\n",
            "      (conv2): Conv2d(128, 128, kernel_size=(3, 3), stride=(1, 1), padding=(1, 1), bias=False)\n",
            "      (bn2): BatchNorm2d(128, eps=1e-05, momentum=0.1, affine=True, track_running_stats=True)\n",
            "    )\n",
            "  )\n",
            "  (layer3): Sequential(\n",
            "    (0): BasicBlock(\n",
            "      (conv1): Conv2d(128, 256, kernel_size=(3, 3), stride=(2, 2), padding=(1, 1), bias=False)\n",
            "      (bn1): BatchNorm2d(256, eps=1e-05, momentum=0.1, affine=True, track_running_stats=True)\n",
            "      (relu): ReLU(inplace)\n",
            "      (conv2): Conv2d(256, 256, kernel_size=(3, 3), stride=(1, 1), padding=(1, 1), bias=False)\n",
            "      (bn2): BatchNorm2d(256, eps=1e-05, momentum=0.1, affine=True, track_running_stats=True)\n",
            "      (downsample): Sequential(\n",
            "        (0): Conv2d(128, 256, kernel_size=(1, 1), stride=(2, 2), bias=False)\n",
            "        (1): BatchNorm2d(256, eps=1e-05, momentum=0.1, affine=True, track_running_stats=True)\n",
            "      )\n",
            "    )\n",
            "    (1): BasicBlock(\n",
            "      (conv1): Conv2d(256, 256, kernel_size=(3, 3), stride=(1, 1), padding=(1, 1), bias=False)\n",
            "      (bn1): BatchNorm2d(256, eps=1e-05, momentum=0.1, affine=True, track_running_stats=True)\n",
            "      (relu): ReLU(inplace)\n",
            "      (conv2): Conv2d(256, 256, kernel_size=(3, 3), stride=(1, 1), padding=(1, 1), bias=False)\n",
            "      (bn2): BatchNorm2d(256, eps=1e-05, momentum=0.1, affine=True, track_running_stats=True)\n",
            "    )\n",
            "  )\n",
            "  (layer4): Sequential(\n",
            "    (0): BasicBlock(\n",
            "      (conv1): Conv2d(256, 512, kernel_size=(3, 3), stride=(2, 2), padding=(1, 1), bias=False)\n",
            "      (bn1): BatchNorm2d(512, eps=1e-05, momentum=0.1, affine=True, track_running_stats=True)\n",
            "      (relu): ReLU(inplace)\n",
            "      (conv2): Conv2d(512, 512, kernel_size=(3, 3), stride=(1, 1), padding=(1, 1), bias=False)\n",
            "      (bn2): BatchNorm2d(512, eps=1e-05, momentum=0.1, affine=True, track_running_stats=True)\n",
            "      (downsample): Sequential(\n",
            "        (0): Conv2d(256, 512, kernel_size=(1, 1), stride=(2, 2), bias=False)\n",
            "        (1): BatchNorm2d(512, eps=1e-05, momentum=0.1, affine=True, track_running_stats=True)\n",
            "      )\n",
            "    )\n",
            "    (1): BasicBlock(\n",
            "      (conv1): Conv2d(512, 512, kernel_size=(3, 3), stride=(1, 1), padding=(1, 1), bias=False)\n",
            "      (bn1): BatchNorm2d(512, eps=1e-05, momentum=0.1, affine=True, track_running_stats=True)\n",
            "      (relu): ReLU(inplace)\n",
            "      (conv2): Conv2d(512, 512, kernel_size=(3, 3), stride=(1, 1), padding=(1, 1), bias=False)\n",
            "      (bn2): BatchNorm2d(512, eps=1e-05, momentum=0.1, affine=True, track_running_stats=True)\n",
            "    )\n",
            "  )\n",
            "  (avgpool): AdaptiveAvgPool2d(output_size=(1, 1))\n",
            "  (fc): Linear(in_features=512, out_features=1000, bias=True)\n",
            ")\n"
          ],
          "name": "stdout"
        }
      ]
    },
    {
      "cell_type": "code",
      "metadata": {
        "id": "8ln8G7kjyops",
        "colab_type": "code",
        "colab": {
          "base_uri": "https://localhost:8080/",
          "height": 51
        },
        "outputId": "c0b49d2e-f5fe-494a-ff91-6a76c884f4ce"
      },
      "source": [
        "for param in model.parameters():\n",
        "  param.requires_grad=False\n",
        "final_in_features= model.fc.in_features\n",
        "model.fc=nn.Linear(final_in_features, out_features=10 , bias=True)\n",
        "for param in model.parameters():\n",
        "  if param.requires_grad== True:\n",
        "    print(param.shape)\n",
        "\n"
      ],
      "execution_count": 26,
      "outputs": [
        {
          "output_type": "stream",
          "text": [
            "torch.Size([10, 512])\n",
            "torch.Size([10])\n"
          ],
          "name": "stdout"
        }
      ]
    },
    {
      "cell_type": "markdown",
      "metadata": {
        "id": "MV5QvngBfmo6",
        "colab_type": "text"
      },
      "source": [
        "# Creating the Evaluation function"
      ]
    },
    {
      "cell_type": "code",
      "metadata": {
        "id": "n9kT7zdjfrQw",
        "colab_type": "code",
        "colab": {}
      },
      "source": [
        "def evaluation(dataloader, model):\n",
        "    total, correct=0,0\n",
        "    for data in dataloader:\n",
        "        inputs, lab_v, lab_c= data\n",
        "        inputs, lab_v= inputs.to(device), lab_v.to(device)\n",
        "        outputs = model(inputs.double())\n",
        "        _, pred =torch.max(outputs, 1)\n",
        "        total+= lab_v.size(0)\n",
        "        correct+= (pred==lab_v).sum().item()\n",
        "    return pred, 100* correct/total\n"
      ],
      "execution_count": 0,
      "outputs": []
    },
    {
      "cell_type": "markdown",
      "metadata": {
        "id": "_DBZyEMsfwRW",
        "colab_type": "text"
      },
      "source": [
        "## Creating the Network Object"
      ]
    },
    {
      "cell_type": "code",
      "metadata": {
        "id": "r4LKBssVfvUF",
        "colab_type": "code",
        "colab": {}
      },
      "source": [
        "model = model.double().to(device)\n",
        "# for param in model.parameters():\n",
        "#     nn.init.xavier_uniform_(param.unsqueeze(dim=1))\n",
        "#     param.squeeze()\n",
        "loss_fn=nn.CrossEntropyLoss()\n"
      ],
      "execution_count": 0,
      "outputs": []
    },
    {
      "cell_type": "code",
      "metadata": {
        "id": "PA_xVfOU_Rfm",
        "colab_type": "code",
        "colab": {}
      },
      "source": [
        "opt=optim.Adam(model.parameters(), lr=0.003 )"
      ],
      "execution_count": 0,
      "outputs": []
    },
    {
      "cell_type": "markdown",
      "metadata": {
        "id": "ryJY_QHrhEf9",
        "colab_type": "text"
      },
      "source": [
        "## Loading into dataloaders"
      ]
    },
    {
      "cell_type": "code",
      "metadata": {
        "id": "p5VCE5cWvSpM",
        "colab_type": "code",
        "colab": {}
      },
      "source": [
        "import copy"
      ],
      "execution_count": 0,
      "outputs": []
    },
    {
      "cell_type": "code",
      "metadata": {
        "id": "FauhyJBugBAs",
        "colab_type": "code",
        "colab": {}
      },
      "source": [
        "batch= 256\n",
        "trainloader = DataLoader(trainset, batch_size=batch, shuffle=False, num_workers=1)\n",
        "# evalloader= DataLoader(evalset, batch_size=batch_size, shuffle=False)\n",
        "# testloader= DataLoader(testset, batch_size=X_test.shape[0],shuffle=False)"
      ],
      "execution_count": 0,
      "outputs": []
    },
    {
      "cell_type": "markdown",
      "metadata": {
        "id": "tSr5yogkhSfo",
        "colab_type": "text"
      },
      "source": [
        "# Training the Network"
      ]
    },
    {
      "cell_type": "code",
      "metadata": {
        "id": "ANixXAALhYLw",
        "colab_type": "code",
        "outputId": "718f8758-9058-498a-b440-23a93070d1f0",
        "colab": {
          "base_uri": "https://localhost:8080/",
          "height": 1000
        }
      },
      "source": [
        "tic=time()\n",
        "model.train()\n",
        "loss_per_epoch=[]\n",
        "loss_arr=[]\n",
        "max_epochs=10\n",
        "min_loss=1000\n",
        "n_iters=np.ceil(10000/batch)\n",
        "for epoch in range(max_epochs):\n",
        "    for i,data in enumerate(trainloader,0):\n",
        "        inputs, lab_v, lab_c= data\n",
        "        inputs, lab_v=inputs.to(device), lab_v.to(device)\n",
        "        opt.zero_grad()\n",
        "        outputs=model(inputs.double())\n",
        "        loss=loss_fn(outputs, lab_v)\n",
        "        loss_arr.append(loss.item())\n",
        "        loss.backward()\n",
        "        opt.step()\n",
        "        if min_loss>loss.item():\n",
        "            min_loss=loss.item()\n",
        "            best_model=copy.deepcopy(model.state_dict())\n",
        "        if i % 8==0:\n",
        "            print(\"Epoch: %d Iteration: %d/%d Loss: %0.3f\" %(epoch, i, n_iters, loss.item()))\n",
        "        del inputs, lab_v, outputs\n",
        "        torch.cuda.empty_cache()\n",
        "    loss_per_epoch.append(loss.item())\n",
        "toc=time()\n",
        "print(\"Training time:\", toc-tic)\n",
        "plt.plot(loss_per_epoch, 'r')\n",
        "plt.show()\n",
        "model.eval()\n",
        "# torch.save(best_model,\"../input/checkpoint/best_model.pth\")\n",
        "model.load_state_dict(best_model)\n",
        "with torch.no_grad():\n",
        "  _, acc= evaluation(trainloader, model)\n",
        "print(\"Loss:\")\n",
        "print(\"Training Accuracy: %0.2f\" %( acc ))\n",
        "# print(\"Test Accuracy: %0.2f\" %(evaluation(evalloader,model)))"
      ],
      "execution_count": 32,
      "outputs": [
        {
          "output_type": "stream",
          "text": [
            "Epoch: 0 Iteration: 0/40 Loss: 2.710\n",
            "Epoch: 0 Iteration: 4/40 Loss: 2.590\n",
            "Epoch: 0 Iteration: 8/40 Loss: 2.481\n",
            "Epoch: 0 Iteration: 12/40 Loss: 2.282\n",
            "Epoch: 0 Iteration: 16/40 Loss: 2.188\n",
            "Epoch: 0 Iteration: 20/40 Loss: 2.156\n",
            "Epoch: 0 Iteration: 24/40 Loss: 2.240\n",
            "Epoch: 0 Iteration: 28/40 Loss: 2.103\n",
            "Epoch: 0 Iteration: 32/40 Loss: 2.133\n",
            "Epoch: 0 Iteration: 36/40 Loss: 2.109\n",
            "Epoch: 1 Iteration: 0/40 Loss: 2.035\n",
            "Epoch: 1 Iteration: 4/40 Loss: 2.112\n",
            "Epoch: 1 Iteration: 8/40 Loss: 2.035\n",
            "Epoch: 1 Iteration: 12/40 Loss: 1.932\n",
            "Epoch: 1 Iteration: 16/40 Loss: 1.969\n",
            "Epoch: 1 Iteration: 20/40 Loss: 1.946\n",
            "Epoch: 1 Iteration: 24/40 Loss: 1.992\n",
            "Epoch: 1 Iteration: 28/40 Loss: 1.919\n",
            "Epoch: 1 Iteration: 32/40 Loss: 1.960\n",
            "Epoch: 1 Iteration: 36/40 Loss: 1.936\n",
            "Epoch: 2 Iteration: 0/40 Loss: 1.970\n",
            "Epoch: 2 Iteration: 4/40 Loss: 1.967\n",
            "Epoch: 2 Iteration: 8/40 Loss: 1.951\n",
            "Epoch: 2 Iteration: 12/40 Loss: 1.827\n",
            "Epoch: 2 Iteration: 16/40 Loss: 1.886\n",
            "Epoch: 2 Iteration: 20/40 Loss: 1.870\n",
            "Epoch: 2 Iteration: 24/40 Loss: 1.910\n",
            "Epoch: 2 Iteration: 28/40 Loss: 1.841\n",
            "Epoch: 2 Iteration: 32/40 Loss: 1.891\n",
            "Epoch: 2 Iteration: 36/40 Loss: 1.864\n",
            "Epoch: 3 Iteration: 0/40 Loss: 1.910\n",
            "Epoch: 3 Iteration: 4/40 Loss: 1.910\n",
            "Epoch: 3 Iteration: 8/40 Loss: 1.884\n",
            "Epoch: 3 Iteration: 12/40 Loss: 1.774\n",
            "Epoch: 3 Iteration: 16/40 Loss: 1.841\n",
            "Epoch: 3 Iteration: 20/40 Loss: 1.823\n",
            "Epoch: 3 Iteration: 24/40 Loss: 1.862\n",
            "Epoch: 3 Iteration: 28/40 Loss: 1.795\n",
            "Epoch: 3 Iteration: 32/40 Loss: 1.842\n",
            "Epoch: 3 Iteration: 36/40 Loss: 1.817\n",
            "Epoch: 4 Iteration: 0/40 Loss: 1.870\n",
            "Epoch: 4 Iteration: 4/40 Loss: 1.876\n",
            "Epoch: 4 Iteration: 8/40 Loss: 1.836\n",
            "Epoch: 4 Iteration: 12/40 Loss: 1.740\n",
            "Epoch: 4 Iteration: 16/40 Loss: 1.805\n",
            "Epoch: 4 Iteration: 20/40 Loss: 1.791\n",
            "Epoch: 4 Iteration: 24/40 Loss: 1.827\n",
            "Epoch: 4 Iteration: 28/40 Loss: 1.762\n",
            "Epoch: 4 Iteration: 32/40 Loss: 1.806\n",
            "Epoch: 4 Iteration: 36/40 Loss: 1.784\n",
            "Epoch: 5 Iteration: 0/40 Loss: 1.842\n",
            "Epoch: 5 Iteration: 4/40 Loss: 1.853\n",
            "Epoch: 5 Iteration: 8/40 Loss: 1.800\n",
            "Epoch: 5 Iteration: 12/40 Loss: 1.715\n",
            "Epoch: 5 Iteration: 16/40 Loss: 1.776\n",
            "Epoch: 5 Iteration: 20/40 Loss: 1.767\n",
            "Epoch: 5 Iteration: 24/40 Loss: 1.799\n",
            "Epoch: 5 Iteration: 28/40 Loss: 1.738\n",
            "Epoch: 5 Iteration: 32/40 Loss: 1.778\n",
            "Epoch: 5 Iteration: 36/40 Loss: 1.759\n",
            "Epoch: 6 Iteration: 0/40 Loss: 1.820\n",
            "Epoch: 6 Iteration: 4/40 Loss: 1.836\n",
            "Epoch: 6 Iteration: 8/40 Loss: 1.770\n",
            "Epoch: 6 Iteration: 12/40 Loss: 1.696\n",
            "Epoch: 6 Iteration: 16/40 Loss: 1.752\n",
            "Epoch: 6 Iteration: 20/40 Loss: 1.749\n",
            "Epoch: 6 Iteration: 24/40 Loss: 1.775\n",
            "Epoch: 6 Iteration: 28/40 Loss: 1.718\n",
            "Epoch: 6 Iteration: 32/40 Loss: 1.755\n",
            "Epoch: 6 Iteration: 36/40 Loss: 1.739\n",
            "Epoch: 7 Iteration: 0/40 Loss: 1.802\n",
            "Epoch: 7 Iteration: 4/40 Loss: 1.822\n",
            "Epoch: 7 Iteration: 8/40 Loss: 1.746\n",
            "Epoch: 7 Iteration: 12/40 Loss: 1.681\n",
            "Epoch: 7 Iteration: 16/40 Loss: 1.732\n",
            "Epoch: 7 Iteration: 20/40 Loss: 1.733\n",
            "Epoch: 7 Iteration: 24/40 Loss: 1.756\n",
            "Epoch: 7 Iteration: 28/40 Loss: 1.701\n",
            "Epoch: 7 Iteration: 32/40 Loss: 1.735\n",
            "Epoch: 7 Iteration: 36/40 Loss: 1.723\n",
            "Epoch: 8 Iteration: 0/40 Loss: 1.788\n",
            "Epoch: 8 Iteration: 4/40 Loss: 1.809\n",
            "Epoch: 8 Iteration: 8/40 Loss: 1.726\n",
            "Epoch: 8 Iteration: 12/40 Loss: 1.667\n",
            "Epoch: 8 Iteration: 16/40 Loss: 1.715\n",
            "Epoch: 8 Iteration: 20/40 Loss: 1.720\n",
            "Epoch: 8 Iteration: 24/40 Loss: 1.739\n",
            "Epoch: 8 Iteration: 28/40 Loss: 1.686\n",
            "Epoch: 8 Iteration: 32/40 Loss: 1.719\n",
            "Epoch: 8 Iteration: 36/40 Loss: 1.710\n",
            "Epoch: 9 Iteration: 0/40 Loss: 1.775\n",
            "Epoch: 9 Iteration: 4/40 Loss: 1.799\n",
            "Epoch: 9 Iteration: 8/40 Loss: 1.708\n",
            "Epoch: 9 Iteration: 12/40 Loss: 1.656\n",
            "Epoch: 9 Iteration: 16/40 Loss: 1.699\n",
            "Epoch: 9 Iteration: 20/40 Loss: 1.709\n",
            "Epoch: 9 Iteration: 24/40 Loss: 1.725\n",
            "Epoch: 9 Iteration: 28/40 Loss: 1.674\n",
            "Epoch: 9 Iteration: 32/40 Loss: 1.704\n",
            "Epoch: 9 Iteration: 36/40 Loss: 1.699\n",
            "Training time: 92.87313914299011\n"
          ],
          "name": "stdout"
        },
        {
          "output_type": "display_data",
          "data": {
            "image/png": "[encoded data removed]",
            "text/plain": [
              "<Figure size 432x288 with 1 Axes>"
            ]
          },
          "metadata": {
            "tags": []
          }
        },
        {
          "output_type": "stream",
          "text": [
            "Loss:\n",
            "Training Accuracy: 36.77\n"
          ],
          "name": "stdout"
        }
      ]
    },
    {
      "cell_type": "code",
      "metadata": {
        "id": "ZaZ61DIHouMN",
        "colab_type": "code",
        "outputId": "caa9d565-9a33-4ac5-cef6-fb259813430e",
        "colab": {
          "base_uri": "https://localhost:8080/",
          "height": 187
        }
      },
      "source": [
        "from sklearn.metrics import confusion_matrix\n",
        "# batch= 512\n",
        "trainloader = DataLoader(trainset, batch_size=1000, shuffle=False, num_workers=0)\n",
        "model.eval()\n",
        "with torch.no_grad():\n",
        "  pred, _ = evaluation(trainloader, model)\n",
        "cm= confusion_matrix(pred.cpu(), y_vowel[:1000])\n",
        "print(cm)"
      ],
      "execution_count": 38,
      "outputs": [
        {
          "output_type": "stream",
          "text": [
            "[[15 18 13 18 27 15 20 14 20 15]\n",
            " [ 9  5  9  3  2  4  3  9  9  3]\n",
            " [10 17  6  7 14 15 11 10  6  7]\n",
            " [ 8  6 11  8 12  7 11 10 20 13]\n",
            " [ 7  3  5 13  2  5  7  8  6  6]\n",
            " [ 7  9  8 10 14 11  9  7 14  8]\n",
            " [ 2  4  6  5  6  4  3  6  5  6]\n",
            " [30 28 31 25 27 29 22 26 13 15]\n",
            " [ 5  3  4  0  2  4  3  4  2  3]\n",
            " [ 5  6  6  7  8  6 12 13  8  7]]\n"
          ],
          "name": "stdout"
        }
      ]
    },
    {
      "cell_type": "code",
      "metadata": {
        "id": "F1W5vSNFXq78",
        "colab_type": "code",
        "outputId": "67cc6b2a-ee06-4e72-efcc-e7bc34ab175d",
        "colab": {
          "base_uri": "https://localhost:8080/",
          "height": 187
        }
      },
      "source": [
        "cm= confusion_matrix(pred.cpu(), y_vowel[:1000])\n",
        "print(cm)"
      ],
      "execution_count": 37,
      "outputs": [
        {
          "output_type": "stream",
          "text": [
            "[[15 18 13 18 27 15 20 14 20 15]\n",
            " [ 9  5  9  3  2  4  3  9  9  3]\n",
            " [10 17  6  7 14 15 11 10  6  7]\n",
            " [ 8  6 11  8 12  7 11 10 20 13]\n",
            " [ 7  3  5 13  2  5  7  8  6  6]\n",
            " [ 7  9  8 10 14 11  9  7 14  8]\n",
            " [ 2  4  6  5  6  4  3  6  5  6]\n",
            " [30 28 31 25 27 29 22 26 13 15]\n",
            " [ 5  3  4  0  2  4  3  4  2  3]\n",
            " [ 5  6  6  7  8  6 12 13  8  7]]\n"
          ],
          "name": "stdout"
        }
      ]
    }
  ]
}